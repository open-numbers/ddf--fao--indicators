{
 "cells": [
  {
   "cell_type": "code",
   "execution_count": 1,
   "metadata": {},
   "outputs": [],
   "source": [
    "import zipfile\n",
    "import pandas as pd"
   ]
  },
  {
   "cell_type": "code",
   "execution_count": 2,
   "metadata": {},
   "outputs": [],
   "source": [
    "from io import BytesIO, StringIO"
   ]
  },
  {
   "cell_type": "code",
   "execution_count": 3,
   "metadata": {},
   "outputs": [],
   "source": [
    "from ddf_utils.str import to_concept_id"
   ]
  },
  {
   "cell_type": "code",
   "execution_count": 5,
   "metadata": {},
   "outputs": [],
   "source": [
    "zf = zipfile.ZipFile('../source/FAOSTAT.zip')"
   ]
  },
  {
   "cell_type": "code",
   "execution_count": 6,
   "metadata": {},
   "outputs": [],
   "source": [
    "datasets = []\n",
    "for f in zf.filelist:\n",
    "    n = f.filename\n",
    "    ns = n.split('_')[:3]\n",
    "    count = 0\n",
    "    d = []\n",
    "    for x in ns:\n",
    "        if x == '':\n",
    "            continue\n",
    "        d.append(x[0].upper())\n",
    "        count = count + 1\n",
    "        if count > 3:\n",
    "            break\n",
    "    d = ''.join(d)\n",
    "    \n",
    "    i = 1\n",
    "    d_ = d\n",
    "    while d_ in datasets:\n",
    "        d_ = '{}{}'.format(d, i)\n",
    "        i = i + 1\n",
    "    datasets.append(d_)\n",
    "    #print(d_)"
   ]
  },
  {
   "cell_type": "code",
   "execution_count": 7,
   "metadata": {},
   "outputs": [
    {
     "data": {
      "text/plain": [
       "['ARE',\n",
       " 'ARS',\n",
       " 'CCE',\n",
       " 'CLE',\n",
       " 'CEA',\n",
       " 'DEA',\n",
       " 'DAT',\n",
       " 'EAA',\n",
       " 'EAB',\n",
       " 'EAB1',\n",
       " 'EAC',\n",
       " 'EAC1',\n",
       " 'EAE',\n",
       " 'EAE1',\n",
       " 'EAM',\n",
       " 'EAM1',\n",
       " 'EAM2',\n",
       " 'EAR',\n",
       " 'EAS',\n",
       " 'ELU',\n",
       " 'ELU1',\n",
       " 'ELU2',\n",
       " 'ELU3',\n",
       " 'ELU4',\n",
       " 'EIE',\n",
       " 'EAE2',\n",
       " 'EEB',\n",
       " 'EEI',\n",
       " 'EEE',\n",
       " 'EFE',\n",
       " 'ELE',\n",
       " 'ELE1',\n",
       " 'ELE2',\n",
       " 'ELE3',\n",
       " 'EPE',\n",
       " 'ESE',\n",
       " 'ETC',\n",
       " 'EWE',\n",
       " 'ERE',\n",
       " 'FEA',\n",
       " 'FCE',\n",
       " 'FLE',\n",
       " 'FAS',\n",
       " 'FSD',\n",
       " 'FEA1',\n",
       " 'FTF',\n",
       " 'IFH',\n",
       " 'IFE',\n",
       " 'IFE1',\n",
       " 'IFE2',\n",
       " 'IFE3',\n",
       " 'ILE',\n",
       " 'IPT',\n",
       " 'IPU',\n",
       " 'ICE',\n",
       " 'IC',\n",
       " 'ICE1',\n",
       " 'IFE4',\n",
       " 'IGE',\n",
       " 'IME',\n",
       " 'IME1',\n",
       " 'MKI',\n",
       " 'PEA',\n",
       " 'PEA1',\n",
       " 'PEA2',\n",
       " 'PME',\n",
       " 'PIE',\n",
       " 'PCS',\n",
       " 'PCE',\n",
       " 'PCE1',\n",
       " 'PIE1',\n",
       " 'PLE',\n",
       " 'PLE1',\n",
       " 'PLE2',\n",
       " 'TCL',\n",
       " 'TDE',\n",
       " 'TIE',\n",
       " 'TLE',\n",
       " 'VOP']"
      ]
     },
     "execution_count": 7,
     "metadata": {},
     "output_type": "execute_result"
    }
   ],
   "source": [
    "datasets"
   ]
  },
  {
   "cell_type": "code",
   "execution_count": 8,
   "metadata": {},
   "outputs": [],
   "source": [
    "fns = [x.filename for x in zf.filelist]"
   ]
  },
  {
   "cell_type": "code",
   "execution_count": 9,
   "metadata": {},
   "outputs": [
    {
     "data": {
      "text/plain": [
       "['ASTI_Researchers_E_All_Data_(Normalized).zip',\n",
       " 'ASTI_Research_Spending_E_All_Data_(Normalized).zip',\n",
       " 'CommodityBalances_Crops_E_All_Data_(Normalized).zip',\n",
       " 'CommodityBalances_LivestockFish_E_All_Data_(Normalized).zip',\n",
       " 'ConsumerPriceIndices_E_All_Data_(Normalized).zip',\n",
       " 'Deflators_E_All_Data_(Normalized).zip',\n",
       " 'Development_Assistance_to_Agriculture_E_All_Data_(Normalized).zip',\n",
       " 'Emissions_Agriculture_Agriculture_total_E_All_Data_(Normalized).zip',\n",
       " 'Emissions_Agriculture_Burning_crop_residues_E_All_Data_(Normalized).zip',\n",
       " 'Emissions_Agriculture_Burning_Savanna_E_All_Data_(Normalized).zip',\n",
       " 'Emissions_Agriculture_Crop_Residues_E_All_Data_(Normalized).zip',\n",
       " 'Emissions_Agriculture_Cultivated_Organic_Soils_E_All_Data_(Normalized).zip',\n",
       " 'Emissions_Agriculture_Energy_E_All_Data_(Normalized).zip',\n",
       " 'Emissions_Agriculture_Enteric_Fermentation_E_All_Data_(Normalized).zip',\n",
       " 'Emissions_Agriculture_Manure_applied_to_soils_E_All_Data_(Normalized).zip',\n",
       " 'Emissions_Agriculture_Manure_left_on_pasture_E_All_Data_(Normalized).zip',\n",
       " 'Emissions_Agriculture_Manure_Management_E_All_Data_(Normalized).zip',\n",
       " 'Emissions_Agriculture_Rice_Cultivation_E_All_Data_(Normalized).zip',\n",
       " 'Emissions_Agriculture_Synthetic_Fertilizers_E_All_Data_(Normalized).zip',\n",
       " 'Emissions_Land_Use_Burning_Biomass_E_All_Data_(Normalized).zip',\n",
       " 'Emissions_Land_Use_Cropland_E_All_Data_(Normalized).zip',\n",
       " 'Emissions_Land_Use_Forest_Land_E_All_Data_(Normalized).zip',\n",
       " 'Emissions_Land_Use_Grassland_E_All_Data_(Normalized).zip',\n",
       " 'Emissions_Land_Use_Land_Use_Total_E_All_Data_(Normalized).zip',\n",
       " 'Employment_Indicators_E_All_Data_(Normalized).zip',\n",
       " 'Environment_AirClimateChange_E_All_Data_(Normalized).zip',\n",
       " 'Environment_Emissions_by_Sector_E_All_Data_(Normalized).zip',\n",
       " 'Environment_Emissions_intensities_E_All_Data_(Normalized).zip',\n",
       " 'Environment_Energy_E_All_Data_(Normalized).zip',\n",
       " 'Environment_Fertilizers_E_All_Data_(Normalized).zip',\n",
       " 'Environment_LandCover_E_All_Data_(Normalized).zip',\n",
       " 'Environment_LandUse_E_All_Data_(Normalized).zip',\n",
       " 'Environment_LivestockManure_E_All_Data_(Normalized).zip',\n",
       " 'Environment_LivestockPatterns_E_All_Data_(Normalized).zip',\n",
       " 'Environment_Pesticides_E_All_Data_(Normalized).zip',\n",
       " 'Environment_Soil_E_All_Data_(Normalized).zip',\n",
       " 'Environment_Temperature_change_E_All_Data_(Normalized).zip',\n",
       " 'Environment_Water_E_All_Data_(Normalized).zip',\n",
       " 'Exchange_rate_E_All_Data_(Normalized).zip',\n",
       " 'FoodBalanceSheets_E_All_Data_(Normalized).zip',\n",
       " 'FoodSupply_Crops_E_All_Data_(Normalized).zip',\n",
       " 'FoodSupply_LivestockFish_E_All_Data_(Normalized).zip',\n",
       " 'Food_Aid_Shipments_WFP_E_All_Data_(Normalized).zip',\n",
       " 'Food_Security_Data_E_All_Data_(Normalized).zip',\n",
       " 'Forestry_E_All_Data_(Normalized).zip',\n",
       " 'Forestry_Trade_Flows_E_All_Data_(Normalized).zip',\n",
       " 'Indicators_from_Household_Surveys_E_All_Data_(Normalized).zip',\n",
       " 'Inputs_FertilizersArchive_E_All_Data_(Normalized).zip',\n",
       " 'Inputs_FertilizersNutrient_E_All_Data_(Normalized).zip',\n",
       " 'Inputs_FertilizersProduct_E_All_Data_(Normalized).zip',\n",
       " 'Inputs_FertilizersTradeValues_E_All_Data_(Normalized).zip',\n",
       " 'Inputs_LandUse_E_All_Data_(Normalized).zip',\n",
       " 'Inputs_Pesticides_Trade_E_All_Data_(Normalized).zip',\n",
       " 'Inputs_Pesticides_Use_E_All_Data_(Normalized).zip',\n",
       " 'Investment_CapitalStock_E_All_Data_(Normalized).zip',\n",
       " 'Investment_CountryInvestmentStatisticsProfile__E_All_Data_(Normalized).zip',\n",
       " 'Investment_CreditAgriculture_E_All_Data_(Normalized).zip',\n",
       " 'Investment_ForeignDirectInvestment_E_All_Data_(Normalized).zip',\n",
       " 'Investment_GovernmentExpenditure_E_All_Data_(Normalized).zip',\n",
       " 'Investment_MachineryArchive_E_All_Data_(Normalized).zip',\n",
       " 'Investment_Machinery_E_All_Data_(Normalized).zip',\n",
       " 'Macro-Statistics_Key_Indicators_E_All_Data_(Normalized).zip',\n",
       " 'Population_E_All_Data_(Normalized).zip',\n",
       " 'PricesArchive_E_All_Data_(Normalized).zip',\n",
       " 'Prices_E_All_Data_(Normalized).zip',\n",
       " 'Prices_Monthly_E_All_Data_(Normalized).zip',\n",
       " 'Price_Indices_E_All_Data_(Normalized).zip',\n",
       " 'Producción_Cultivos_S_Todos_los_Datos.zip',\n",
       " 'Production_CropsProcessed_E_All_Data_(Normalized).zip',\n",
       " 'Production_Crops_E_All_Data_(Normalized).zip',\n",
       " 'Production_Indices_E_All_Data_(Normalized).zip',\n",
       " 'Production_LivestockPrimary_E_All_Data_(Normalized).zip',\n",
       " 'Production_LivestockProcessed_E_All_Data_(Normalized).zip',\n",
       " 'Production_Livestock_E_All_Data_(Normalized).zip',\n",
       " 'Trade_Crops_Livestock_E_All_Data_(Normalized).zip',\n",
       " 'Trade_DetailedTradeMatrix_E_All_Data_(Normalized).zip',\n",
       " 'Trade_Indices_E_All_Data_(Normalized).zip',\n",
       " 'Trade_LiveAnimals_E_All_Data_(Normalized).zip',\n",
       " 'Value_of_Production_E_All_Data_(Normalized).zip']"
      ]
     },
     "execution_count": 9,
     "metadata": {},
     "output_type": "execute_result"
    }
   ],
   "source": [
    "fns"
   ]
  },
  {
   "cell_type": "code",
   "execution_count": 10,
   "metadata": {},
   "outputs": [],
   "source": [
    "domains = dict(zip(fns, datasets))"
   ]
  },
  {
   "cell_type": "code",
   "execution_count": 11,
   "metadata": {
    "scrolled": false
   },
   "outputs": [
    {
     "data": {
      "text/plain": [
       "79"
      ]
     },
     "execution_count": 11,
     "metadata": {},
     "output_type": "execute_result"
    }
   ],
   "source": [
    "len(zf.filelist)"
   ]
  },
  {
   "cell_type": "code",
   "execution_count": 14,
   "metadata": {},
   "outputs": [
    {
     "data": {
      "text/plain": [
       "'ASTI_Researchers_E_All_Data_(Normalized).zip'"
      ]
     },
     "execution_count": 14,
     "metadata": {},
     "output_type": "execute_result"
    }
   ],
   "source": [
    "zf.filelist[0].filename"
   ]
  },
  {
   "cell_type": "code",
   "execution_count": 19,
   "metadata": {},
   "outputs": [
    {
     "name": "stdout",
     "output_type": "stream",
     "text": [
      "Development_Assistance_to_Agriculture_E_All_Data_(Normalized).zip\n",
      "Trade_DetailedTradeMatrix_E_All_Data_(Normalized).zip\n"
     ]
    }
   ],
   "source": [
    "# files can't be read\n",
    "for f in zf.filelist:\n",
    "    fn = f.filename\n",
    "    b = BytesIO(zf.read(fn))\n",
    "    try:\n",
    "        a = next(pd.read_csv(b, encoding='latin1', compression='zip', chunksize=1))\n",
    "    except NotImplementedError:\n",
    "        print(fn)"
   ]
  },
  {
   "cell_type": "code",
   "execution_count": 12,
   "metadata": {},
   "outputs": [],
   "source": [
    "b = BytesIO(zf.read('Development_Assistance_to_Agriculture_E_All_Data_(Normalized).zip')) \n",
    "# ^ can't load because it's zipped by a not supported method"
   ]
  },
  {
   "cell_type": "code",
   "execution_count": 15,
   "metadata": {},
   "outputs": [],
   "source": [
    "b = BytesIO(zf.read('Trade_Crops_Livestock_E_All_Data_(Normalized).zip'))"
   ]
  },
  {
   "cell_type": "code",
   "execution_count": 17,
   "metadata": {},
   "outputs": [],
   "source": [
    "a = next(pd.read_csv(b, encoding='latin1', compression='zip', chunksize=1))\n",
    "# a_ = pd.read_csv('Development_Assistance_to_Agriculture_E_All_Data_(Normalized).csv', chunksize=10)"
   ]
  },
  {
   "cell_type": "code",
   "execution_count": 18,
   "metadata": {},
   "outputs": [
    {
     "data": {
      "text/html": [
       "<div>\n",
       "<style scoped>\n",
       "    .dataframe tbody tr th:only-of-type {\n",
       "        vertical-align: middle;\n",
       "    }\n",
       "\n",
       "    .dataframe tbody tr th {\n",
       "        vertical-align: top;\n",
       "    }\n",
       "\n",
       "    .dataframe thead th {\n",
       "        text-align: right;\n",
       "    }\n",
       "</style>\n",
       "<table border=\"1\" class=\"dataframe\">\n",
       "  <thead>\n",
       "    <tr style=\"text-align: right;\">\n",
       "      <th></th>\n",
       "      <th>Area Code</th>\n",
       "      <th>Area</th>\n",
       "      <th>Item Code</th>\n",
       "      <th>Item</th>\n",
       "      <th>Element Code</th>\n",
       "      <th>Element</th>\n",
       "      <th>Year Code</th>\n",
       "      <th>Year</th>\n",
       "      <th>Unit</th>\n",
       "      <th>Value</th>\n",
       "      <th>Flag</th>\n",
       "    </tr>\n",
       "  </thead>\n",
       "  <tbody>\n",
       "    <tr>\n",
       "      <th>0</th>\n",
       "      <td>2</td>\n",
       "      <td>Afghanistan</td>\n",
       "      <td>231</td>\n",
       "      <td>Almonds shelled</td>\n",
       "      <td>5910</td>\n",
       "      <td>Export Quantity</td>\n",
       "      <td>1961</td>\n",
       "      <td>1961</td>\n",
       "      <td>tonnes</td>\n",
       "      <td>0.0</td>\n",
       "      <td>NaN</td>\n",
       "    </tr>\n",
       "  </tbody>\n",
       "</table>\n",
       "</div>"
      ],
      "text/plain": [
       "   Area Code         Area  Item Code             Item  Element Code  \\\n",
       "0          2  Afghanistan        231  Almonds shelled          5910   \n",
       "\n",
       "           Element  Year Code  Year    Unit  Value  Flag  \n",
       "0  Export Quantity       1961  1961  tonnes    0.0   NaN  "
      ]
     },
     "execution_count": 18,
     "metadata": {},
     "output_type": "execute_result"
    }
   ],
   "source": [
    "a.head()"
   ]
  },
  {
   "cell_type": "code",
   "execution_count": 133,
   "metadata": {
    "scrolled": true
   },
   "outputs": [
    {
     "data": {
      "text/html": [
       "<div>\n",
       "<style scoped>\n",
       "    .dataframe tbody tr th:only-of-type {\n",
       "        vertical-align: middle;\n",
       "    }\n",
       "\n",
       "    .dataframe tbody tr th {\n",
       "        vertical-align: top;\n",
       "    }\n",
       "\n",
       "    .dataframe thead th {\n",
       "        text-align: right;\n",
       "    }\n",
       "</style>\n",
       "<table border=\"1\" class=\"dataframe\">\n",
       "  <thead>\n",
       "    <tr style=\"text-align: right;\">\n",
       "      <th></th>\n",
       "      <th>Area Code</th>\n",
       "      <th>Area</th>\n",
       "      <th>Item Code</th>\n",
       "      <th>Item</th>\n",
       "      <th>Element Code</th>\n",
       "      <th>Element</th>\n",
       "      <th>Year Code</th>\n",
       "      <th>Year</th>\n",
       "      <th>Unit</th>\n",
       "      <th>Value</th>\n",
       "      <th>Flag</th>\n",
       "    </tr>\n",
       "  </thead>\n",
       "  <tbody>\n",
       "    <tr>\n",
       "      <th>13825353</th>\n",
       "      <td>261</td>\n",
       "      <td>EU(12)ex.int</td>\n",
       "      <td>862</td>\n",
       "      <td>Alfalfa meal and pellets</td>\n",
       "      <td>5610</td>\n",
       "      <td>Import Quantity</td>\n",
       "      <td>1986</td>\n",
       "      <td>1986</td>\n",
       "      <td>tonnes</td>\n",
       "      <td>97405.0</td>\n",
       "      <td>A</td>\n",
       "    </tr>\n",
       "    <tr>\n",
       "      <th>13825354</th>\n",
       "      <td>261</td>\n",
       "      <td>EU(12)ex.int</td>\n",
       "      <td>862</td>\n",
       "      <td>Alfalfa meal and pellets</td>\n",
       "      <td>5610</td>\n",
       "      <td>Import Quantity</td>\n",
       "      <td>1987</td>\n",
       "      <td>1987</td>\n",
       "      <td>tonnes</td>\n",
       "      <td>71635.0</td>\n",
       "      <td>A</td>\n",
       "    </tr>\n",
       "    <tr>\n",
       "      <th>13825355</th>\n",
       "      <td>261</td>\n",
       "      <td>EU(12)ex.int</td>\n",
       "      <td>862</td>\n",
       "      <td>Alfalfa meal and pellets</td>\n",
       "      <td>5610</td>\n",
       "      <td>Import Quantity</td>\n",
       "      <td>1988</td>\n",
       "      <td>1988</td>\n",
       "      <td>tonnes</td>\n",
       "      <td>70367.0</td>\n",
       "      <td>A</td>\n",
       "    </tr>\n",
       "    <tr>\n",
       "      <th>13825356</th>\n",
       "      <td>261</td>\n",
       "      <td>EU(12)ex.int</td>\n",
       "      <td>862</td>\n",
       "      <td>Alfalfa meal and pellets</td>\n",
       "      <td>5610</td>\n",
       "      <td>Import Quantity</td>\n",
       "      <td>1989</td>\n",
       "      <td>1989</td>\n",
       "      <td>tonnes</td>\n",
       "      <td>70327.0</td>\n",
       "      <td>A</td>\n",
       "    </tr>\n",
       "    <tr>\n",
       "      <th>13825357</th>\n",
       "      <td>261</td>\n",
       "      <td>EU(12)ex.int</td>\n",
       "      <td>862</td>\n",
       "      <td>Alfalfa meal and pellets</td>\n",
       "      <td>5610</td>\n",
       "      <td>Import Quantity</td>\n",
       "      <td>1990</td>\n",
       "      <td>1990</td>\n",
       "      <td>tonnes</td>\n",
       "      <td>67262.0</td>\n",
       "      <td>A</td>\n",
       "    </tr>\n",
       "  </tbody>\n",
       "</table>\n",
       "</div>"
      ],
      "text/plain": [
       "          Area Code          Area  Item Code                      Item  \\\n",
       "13825353        261  EU(12)ex.int        862  Alfalfa meal and pellets   \n",
       "13825354        261  EU(12)ex.int        862  Alfalfa meal and pellets   \n",
       "13825355        261  EU(12)ex.int        862  Alfalfa meal and pellets   \n",
       "13825356        261  EU(12)ex.int        862  Alfalfa meal and pellets   \n",
       "13825357        261  EU(12)ex.int        862  Alfalfa meal and pellets   \n",
       "\n",
       "          Element Code          Element  Year Code  Year    Unit    Value Flag  \n",
       "13825353          5610  Import Quantity       1986  1986  tonnes  97405.0    A  \n",
       "13825354          5610  Import Quantity       1987  1987  tonnes  71635.0    A  \n",
       "13825355          5610  Import Quantity       1988  1988  tonnes  70367.0    A  \n",
       "13825356          5610  Import Quantity       1989  1989  tonnes  70327.0    A  \n",
       "13825357          5610  Import Quantity       1990  1990  tonnes  67262.0    A  "
      ]
     },
     "execution_count": 133,
     "metadata": {},
     "output_type": "execute_result"
    }
   ],
   "source": [
    "a[a['Area Code'] == 261].head()"
   ]
  },
  {
   "cell_type": "code",
   "execution_count": 134,
   "metadata": {},
   "outputs": [
    {
     "data": {
      "text/plain": [
       "array(['Afghanistan', 'Albania', 'Algeria', 'American Samoa', 'Angola',\n",
       "       'Antigua and Barbuda', 'Argentina', 'Armenia', 'Aruba',\n",
       "       'Australia', 'Austria', 'Azerbaijan', 'Bahamas', 'Bahrain',\n",
       "       'Bangladesh', 'Barbados', 'Belarus', 'Belgium',\n",
       "       'Belgium-Luxembourg', 'Belize', 'Benin', 'Bermuda', 'Bhutan',\n",
       "       'Bolivia (Plurinational State of)', 'Bosnia and Herzegovina',\n",
       "       'Botswana', 'Brazil', 'British Virgin Islands',\n",
       "       'Brunei Darussalam', 'Bulgaria', 'Burkina Faso', 'Burundi',\n",
       "       'Cabo Verde', 'Cambodia', 'Cameroon', 'Canada', 'Cayman Islands',\n",
       "       'Central African Republic', 'Chad', 'Chile',\n",
       "       'China, Hong Kong SAR', 'China, Macao SAR', 'China, mainland',\n",
       "       'China, Taiwan Province of', 'Colombia', 'Comoros', 'Congo',\n",
       "       'Cook Islands', 'Costa Rica', \"Côte d'Ivoire\", 'Croatia', 'Cuba',\n",
       "       'Cyprus', 'Czechia', 'Czechoslovakia',\n",
       "       \"Democratic People's Republic of Korea\",\n",
       "       'Democratic Republic of the Congo', 'Denmark', 'Djibouti',\n",
       "       'Dominica', 'Dominican Republic', 'Ecuador', 'Egypt',\n",
       "       'El Salvador', 'Equatorial Guinea', 'Eritrea', 'Estonia',\n",
       "       'Ethiopia', 'Ethiopia PDR', 'Falkland Islands (Malvinas)',\n",
       "       'Faroe Islands', 'Fiji', 'Finland', 'France', 'French Polynesia',\n",
       "       'Gabon', 'Gambia', 'Georgia', 'Germany', 'Ghana', 'Greece',\n",
       "       'Grenada', 'Guam', 'Guatemala', 'Guinea', 'Guinea-Bissau',\n",
       "       'Guyana', 'Haiti', 'Honduras', 'Hungary', 'Iceland', 'India',\n",
       "       'Indonesia', 'Iran (Islamic Republic of)', 'Iraq', 'Ireland',\n",
       "       'Israel', 'Italy', 'Jamaica', 'Japan', 'Jordan', 'Kazakhstan',\n",
       "       'Kenya', 'Kiribati', 'Kuwait', 'Kyrgyzstan',\n",
       "       \"Lao People's Democratic Republic\", 'Latvia', 'Lebanon', 'Lesotho',\n",
       "       'Liberia', 'Libya', 'Lithuania', 'Luxembourg', 'Madagascar',\n",
       "       'Malawi', 'Malaysia', 'Maldives', 'Mali', 'Malta', 'Mauritania',\n",
       "       'Mauritius', 'Mexico', 'Mongolia', 'Montenegro', 'Morocco',\n",
       "       'Mozambique', 'Myanmar', 'Namibia', 'Nauru', 'Nepal',\n",
       "       'Netherlands', 'Netherlands Antilles (former)', 'New Caledonia',\n",
       "       'New Zealand', 'Nicaragua', 'Niger', 'Nigeria', 'Niue',\n",
       "       'Norfolk Island', 'Norway', 'Occupied Palestinian Territory',\n",
       "       'Oman', 'Pacific Islands Trust Territory', 'Pakistan', 'Panama',\n",
       "       'Papua New Guinea', 'Paraguay', 'Peru', 'Philippines', 'Poland',\n",
       "       'Portugal', 'Qatar', 'Republic of Korea', 'Republic of Moldova',\n",
       "       'Romania', 'Russian Federation', 'Rwanda', 'Saint Kitts and Nevis',\n",
       "       'Saint Lucia', 'Saint Pierre and Miquelon',\n",
       "       'Saint Vincent and the Grenadines', 'Samoa',\n",
       "       'Sao Tome and Principe', 'Saudi Arabia', 'Senegal', 'Serbia',\n",
       "       'Serbia and Montenegro', 'Seychelles', 'Sierra Leone', 'Singapore',\n",
       "       'Slovakia', 'Slovenia', 'Solomon Islands', 'Somalia',\n",
       "       'South Africa', 'Spain', 'Sri Lanka', 'Sudan', 'Sudan (former)',\n",
       "       'Suriname', 'Swaziland', 'Sweden', 'Switzerland',\n",
       "       'Syrian Arab Republic', 'Tajikistan', 'Thailand',\n",
       "       'The former Yugoslav Republic of Macedonia', 'Timor-Leste', 'Togo',\n",
       "       'Tonga', 'Trinidad and Tobago', 'Tunisia', 'Turkey',\n",
       "       'Turkmenistan', 'Tuvalu', 'Uganda', 'Ukraine',\n",
       "       'United Arab Emirates', 'United Kingdom',\n",
       "       'United Republic of Tanzania', 'United States of America',\n",
       "       'Uruguay', 'USSR', 'Uzbekistan', 'Vanuatu',\n",
       "       'Venezuela (Bolivarian Republic of)', 'Viet Nam', 'Yemen',\n",
       "       'Yugoslav SFR', 'Zambia', 'Zimbabwe', 'China', 'World', 'Africa',\n",
       "       'Eastern Africa', 'Middle Africa', 'Northern Africa',\n",
       "       'Southern Africa', 'Western Africa', 'Americas',\n",
       "       'Northern America', 'Central America', 'Caribbean',\n",
       "       'South America', 'Asia', 'Central Asia', 'Eastern Asia',\n",
       "       'Southern Asia', 'South-Eastern Asia', 'Western Asia', 'Europe',\n",
       "       'Eastern Europe', 'Northern Europe', 'Southern Europe',\n",
       "       'Western Europe', 'Oceania', 'Australia & New Zealand',\n",
       "       'Melanesia', 'Micronesia', 'Polynesia', 'EU(12)ex.int',\n",
       "       'EU(15)ex.int', 'EU(25)ex.int', 'EU(27)ex.int', 'European Union',\n",
       "       'European Union (exc intra-trade)', 'Least Developed Countries',\n",
       "       'Land Locked Developing Countries',\n",
       "       'Small Island Developing States',\n",
       "       'Low Income Food Deficit Countries',\n",
       "       'Net Food Importing Developing Countries'], dtype=object)"
      ]
     },
     "execution_count": 134,
     "metadata": {},
     "output_type": "execute_result"
    }
   ],
   "source": [
    "a['Area'].unique()"
   ]
  },
  {
   "cell_type": "code",
   "execution_count": null,
   "metadata": {},
   "outputs": [],
   "source": []
  },
  {
   "cell_type": "code",
   "execution_count": null,
   "metadata": {},
   "outputs": [],
   "source": []
  },
  {
   "cell_type": "code",
   "execution_count": 50,
   "metadata": {},
   "outputs": [
    {
     "data": {
      "text/plain": [
       "array(['Household survey', 'Population census',\n",
       "       'European Union Labour force survey', 'Labour force survey',\n",
       "       'Household income and expenditure survey', 'Official estimates'],\n",
       "      dtype=object)"
      ]
     },
     "execution_count": 50,
     "metadata": {},
     "output_type": "execute_result"
    }
   ],
   "source": [
    "(a.groupby(['Indicator'])\n",
    " .get_group('Employment-to-population ratio, rural areas')[['Country Code', 'Source', 'Year', 'Value']]['Source']\n",
    " .unique())"
   ]
  },
  {
   "cell_type": "code",
   "execution_count": null,
   "metadata": {},
   "outputs": [],
   "source": []
  },
  {
   "cell_type": "code",
   "execution_count": null,
   "metadata": {},
   "outputs": [],
   "source": []
  },
  {
   "cell_type": "code",
   "execution_count": null,
   "metadata": {},
   "outputs": [],
   "source": []
  },
  {
   "cell_type": "code",
   "execution_count": 20,
   "metadata": {},
   "outputs": [
    {
     "name": "stdout",
     "output_type": "stream",
     "text": [
      "Food_Security_Data_E_All_Data_(Normalized).zip\n",
      "Indicators_from_Household_Surveys_E_All_Data_(Normalized).zip\n",
      "Inputs_FertilizersArchive_E_All_Data_(Normalized).zip\n",
      "Investment_MachineryArchive_E_All_Data_(Normalized).zip\n",
      "PricesArchive_E_All_Data_(Normalized).zip\n",
      "Prices_Monthly_E_All_Data_(Normalized).zip\n"
     ]
    }
   ],
   "source": [
    "# files will be skipped:\n",
    "\n",
    "for x in zf.filelist:\n",
    "    if 'Security' in x.filename or 'Survey' in x.filename or 'Monthly' in x.filename or 'Archive' in x.filename:\n",
    "        print(x.filename)"
   ]
  },
  {
   "cell_type": "code",
   "execution_count": null,
   "metadata": {},
   "outputs": [],
   "source": []
  },
  {
   "cell_type": "code",
   "execution_count": null,
   "metadata": {},
   "outputs": [],
   "source": []
  },
  {
   "cell_type": "code",
   "execution_count": 68,
   "metadata": {},
   "outputs": [],
   "source": [
    "from pandas.api.types import CategoricalDtype\n",
    "import numpy as np\n",
    "import requests as r"
   ]
  },
  {
   "cell_type": "code",
   "execution_count": 79,
   "metadata": {},
   "outputs": [],
   "source": [
    "all_flags = r.get('http://fenixservices.fao.org/faostat/api/v1/en/definitions/types/flag').json()\n",
    "important_flags = [np.nan, 'E', 'F', 'Ff', 'A', 'S']"
   ]
  },
  {
   "cell_type": "code",
   "execution_count": 77,
   "metadata": {},
   "outputs": [],
   "source": [
    "all_flags_names = [x['Flag'] for x in all_flags['data']]"
   ]
  },
  {
   "cell_type": "code",
   "execution_count": 81,
   "metadata": {},
   "outputs": [],
   "source": [
    "all_flags_names = all_flags_names[1:]"
   ]
  },
  {
   "cell_type": "code",
   "execution_count": 86,
   "metadata": {},
   "outputs": [],
   "source": [
    "flags_order = pd.Series([*important_flags, *all_flags_names]).drop_duplicates().values.tolist()"
   ]
  },
  {
   "cell_type": "code",
   "execution_count": 89,
   "metadata": {},
   "outputs": [
    {
     "ename": "ValueError",
     "evalue": "Categorial categories cannot be null",
     "output_type": "error",
     "traceback": [
      "\u001b[0;31m---------------------------------------------------------------------------\u001b[0m",
      "\u001b[0;31mValueError\u001b[0m                                Traceback (most recent call last)",
      "\u001b[0;32m<ipython-input-89-e02bb5d3523a>\u001b[0m in \u001b[0;36m<module>\u001b[0;34m()\u001b[0m\n\u001b[0;32m----> 1\u001b[0;31m \u001b[0mflag_cat\u001b[0m \u001b[0;34m=\u001b[0m \u001b[0mCategoricalDtype\u001b[0m\u001b[0;34m(\u001b[0m\u001b[0mflags_order\u001b[0m\u001b[0;34m,\u001b[0m \u001b[0mordered\u001b[0m\u001b[0;34m=\u001b[0m\u001b[0;32mTrue\u001b[0m\u001b[0;34m)\u001b[0m\u001b[0;34m\u001b[0m\u001b[0m\n\u001b[0m",
      "\u001b[0;32m~/.pyenv/versions/3.6.5/lib/python3.6/site-packages/pandas/core/dtypes/dtypes.py\u001b[0m in \u001b[0;36m__init__\u001b[0;34m(self, categories, ordered)\u001b[0m\n\u001b[1;32m    136\u001b[0m \u001b[0;34m\u001b[0m\u001b[0m\n\u001b[1;32m    137\u001b[0m     \u001b[0;32mdef\u001b[0m \u001b[0m__init__\u001b[0m\u001b[0;34m(\u001b[0m\u001b[0mself\u001b[0m\u001b[0;34m,\u001b[0m \u001b[0mcategories\u001b[0m\u001b[0;34m=\u001b[0m\u001b[0;32mNone\u001b[0m\u001b[0;34m,\u001b[0m \u001b[0mordered\u001b[0m\u001b[0;34m=\u001b[0m\u001b[0;32mNone\u001b[0m\u001b[0;34m)\u001b[0m\u001b[0;34m:\u001b[0m\u001b[0;34m\u001b[0m\u001b[0m\n\u001b[0;32m--> 138\u001b[0;31m         \u001b[0mself\u001b[0m\u001b[0;34m.\u001b[0m\u001b[0m_finalize\u001b[0m\u001b[0;34m(\u001b[0m\u001b[0mcategories\u001b[0m\u001b[0;34m,\u001b[0m \u001b[0mordered\u001b[0m\u001b[0;34m,\u001b[0m \u001b[0mfastpath\u001b[0m\u001b[0;34m=\u001b[0m\u001b[0;32mFalse\u001b[0m\u001b[0;34m)\u001b[0m\u001b[0;34m\u001b[0m\u001b[0m\n\u001b[0m\u001b[1;32m    139\u001b[0m \u001b[0;34m\u001b[0m\u001b[0m\n\u001b[1;32m    140\u001b[0m     \u001b[0;34m@\u001b[0m\u001b[0mclassmethod\u001b[0m\u001b[0;34m\u001b[0m\u001b[0m\n",
      "\u001b[0;32m~/.pyenv/versions/3.6.5/lib/python3.6/site-packages/pandas/core/dtypes/dtypes.py\u001b[0m in \u001b[0;36m_finalize\u001b[0;34m(self, categories, ordered, fastpath)\u001b[0m\n\u001b[1;32m    161\u001b[0m         \u001b[0;32mif\u001b[0m \u001b[0mcategories\u001b[0m \u001b[0;32mis\u001b[0m \u001b[0;32mnot\u001b[0m \u001b[0;32mNone\u001b[0m\u001b[0;34m:\u001b[0m\u001b[0;34m\u001b[0m\u001b[0m\n\u001b[1;32m    162\u001b[0m             categories = self.validate_categories(categories,\n\u001b[0;32m--> 163\u001b[0;31m                                                   fastpath=fastpath)\n\u001b[0m\u001b[1;32m    164\u001b[0m \u001b[0;34m\u001b[0m\u001b[0m\n\u001b[1;32m    165\u001b[0m         \u001b[0mself\u001b[0m\u001b[0;34m.\u001b[0m\u001b[0m_categories\u001b[0m \u001b[0;34m=\u001b[0m \u001b[0mcategories\u001b[0m\u001b[0;34m\u001b[0m\u001b[0m\n",
      "\u001b[0;32m~/.pyenv/versions/3.6.5/lib/python3.6/site-packages/pandas/core/dtypes/dtypes.py\u001b[0m in \u001b[0;36mvalidate_categories\u001b[0;34m(categories, fastpath)\u001b[0m\n\u001b[1;32m    319\u001b[0m \u001b[0;34m\u001b[0m\u001b[0m\n\u001b[1;32m    320\u001b[0m             \u001b[0;32mif\u001b[0m \u001b[0mcategories\u001b[0m\u001b[0;34m.\u001b[0m\u001b[0mhasnans\u001b[0m\u001b[0;34m:\u001b[0m\u001b[0;34m\u001b[0m\u001b[0m\n\u001b[0;32m--> 321\u001b[0;31m                 \u001b[0;32mraise\u001b[0m \u001b[0mValueError\u001b[0m\u001b[0;34m(\u001b[0m\u001b[0;34m'Categorial categories cannot be null'\u001b[0m\u001b[0;34m)\u001b[0m\u001b[0;34m\u001b[0m\u001b[0m\n\u001b[0m\u001b[1;32m    322\u001b[0m \u001b[0;34m\u001b[0m\u001b[0m\n\u001b[1;32m    323\u001b[0m             \u001b[0;32mif\u001b[0m \u001b[0;32mnot\u001b[0m \u001b[0mcategories\u001b[0m\u001b[0;34m.\u001b[0m\u001b[0mis_unique\u001b[0m\u001b[0;34m:\u001b[0m\u001b[0;34m\u001b[0m\u001b[0m\n",
      "\u001b[0;31mValueError\u001b[0m: Categorial categories cannot be null"
     ]
    }
   ],
   "source": [
    "flag_cat = CategoricalDtype(flags_order, ordered=True)"
   ]
  },
  {
   "cell_type": "code",
   "execution_count": 92,
   "metadata": {},
   "outputs": [],
   "source": [
    "flags_order[0] = '_'\n",
    "flag_cat = CategoricalDtype(flags_order, ordered=True)"
   ]
  },
  {
   "cell_type": "code",
   "execution_count": 93,
   "metadata": {},
   "outputs": [
    {
     "data": {
      "text/plain": [
       "CategoricalDtype(categories=['_', 'E', 'F', 'Ff', 'A', 'S', '*', '<0.1', '<2.5', 'AS',\n",
       "                  'B', 'Bk', 'C', 'Ce', 'Cv', 'EA', 'Fa', 'Fb', 'Fc', 'Fm',\n",
       "                  'Fp', 'I', 'Im', 'M', 'NA', 'NR', 'NS', 'NV', 'P', 'Q', 'Qm',\n",
       "                  'R', 'SD', 'T', 'UNSD', 'W', 'X', 'XAM', 'XF', 'XFP', 'XI',\n",
       "                  'XIb', 'XIF', 'XIFb', 'XIM', 'XIMF', 'XIn', 'XIs', 'XIu',\n",
       "                  'XO', 'XOEa', 'XU', 'XUI', 'XUru', 'Z'],\n",
       "                 ordered=True)"
      ]
     },
     "execution_count": 93,
     "metadata": {},
     "output_type": "execute_result"
    }
   ],
   "source": [
    "flag_cat"
   ]
  },
  {
   "cell_type": "code",
   "execution_count": null,
   "metadata": {},
   "outputs": [],
   "source": []
  },
  {
   "cell_type": "code",
   "execution_count": 165,
   "metadata": {},
   "outputs": [],
   "source": [
    "def process_file(f):\n",
    "    concs = []\n",
    "    b = BytesIO(zf.read(f))\n",
    "    df = pd.read_csv(b, encoding='latin1', compression='zip')\n",
    "    \n",
    "    try:\n",
    "        df['Year'].astype('int')\n",
    "    except ValueError:\n",
    "        raise ValueError('Can not convert year to int')\n",
    "    \n",
    "    #print(df.columns)\n",
    "    \n",
    "    if 'Element' in df.columns:\n",
    "        group = df.groupby(['Item', 'Element'])\n",
    "    else:\n",
    "        group = df.groupby('Item')\n",
    "    \n",
    "    for g, idx in group.groups.items():\n",
    "        if 'Area Code' in df.columns:\n",
    "            df_ = df.loc[idx][['Area Code', 'Year', 'Value', 'Unit', 'Flag']].copy()\n",
    "        elif 'Country Code' in df.columns:\n",
    "            df_ = df.loc[idx][['Country Code', 'Year', 'Value', 'Unit', 'Flag']].copy()\n",
    "        elif 'CountryCode' in df.columns:\n",
    "            df_ = df.loc[idx][['CountryCode', 'Year', 'Value', 'Unit', 'Flag']].copy()\n",
    "        else:\n",
    "            raise KeyError(df.columns)\n",
    "\n",
    "        if isinstance(g, str):\n",
    "            indicator = g\n",
    "        else:\n",
    "            indicator = ' - '.join(g)\n",
    "        concept_id = to_concept_id(indicator+' '+domains[f])\n",
    "        \n",
    "        if len(df_) == 0:  # no content\n",
    "            continue\n",
    "        if len(df_['Unit'].unique()) > 1:\n",
    "            print('unit not unique', concept_id, df_['Unit'].unique())\n",
    "            continue  # don't proceed these indicators\n",
    "        \n",
    "        unit = df_['Unit'].unique()[0]\n",
    "        #print(indicator)\n",
    "        concs.append({\n",
    "            'name': indicator,\n",
    "            'concept': concept_id,\n",
    "            'unit': unit\n",
    "        })\n",
    "        \n",
    "        df_.columns = ['geo', 'year', concept_id, 'unit', 'flag']\n",
    "        \n",
    "        df_['flag'] = df_['flag'].fillna('_')\n",
    "        df_['flag'] = df_['flag'].astype(flag_cat)\n",
    "        df_ = df_.sort_values(by='flag').drop_duplicates(subset=['geo', 'year'], keep='first')\n",
    "        \n",
    "        if df_[df_.duplicated(subset=['geo', 'year'])].shape[0] > 0:\n",
    "            print('duplicated found in {}'.format(concept_id))\n",
    "\n",
    "        (df_[['geo', 'year', concept_id]]\n",
    "         .to_csv('../../ddf--datapoints--{}--by--geo--year.csv'.format(concept_id), \n",
    "                 index=False))\n",
    "        \n",
    "    return concs"
   ]
  },
  {
   "cell_type": "code",
   "execution_count": 22,
   "metadata": {},
   "outputs": [],
   "source": [
    "skipFiles = ['Development_Assistance_to_Agriculture_E_All_Data_(Normalized).zip', # zip not support\n",
    "             'Food_Security_Data_E_All_Data_(Normalized).zip',\n",
    "             'Indicators_from_Household_Surveys_E_All_Data_(Normalized).zip',\n",
    "             'Prices_Monthly_E_All_Data_(Normalized).zip',\n",
    "             'Trade_DetailedTradeMatrix_E_All_Data_(Normalized).zip',  # zip not support\n",
    "             'Forestry_Trade_Flows_E_All_Data_(Normalized).zip',\n",
    "             'Employment_Indicators_E_All_Data_(Normalized).zip',\n",
    "             'Environment_Temperature_change_E_All_Data_(Normalized).zip',  # monthly\n",
    "             'Food_Aid_Shipments_WFP_E_All_Data_(Normalized).zip',\n",
    "             'Producción_Cultivos_S_Todos_los_Datos.zip', # not in english\n",
    "             'Inputs_FertilizersArchive_E_All_Data_(Normalized).zip', # archive\n",
    "             'Investment_MachineryArchive_E_All_Data_(Normalized).zip'\n",
    "            ]"
   ]
  },
  {
   "cell_type": "code",
   "execution_count": 166,
   "metadata": {},
   "outputs": [],
   "source": [
    "processed = []\n",
    "failed = []\n",
    "\n",
    "# all concepts\n",
    "concs = []"
   ]
  },
  {
   "cell_type": "code",
   "execution_count": 167,
   "metadata": {},
   "outputs": [
    {
     "data": {
      "text/plain": [
       "[]"
      ]
     },
     "execution_count": 167,
     "metadata": {},
     "output_type": "execute_result"
    }
   ],
   "source": [
    "processed"
   ]
  },
  {
   "cell_type": "code",
   "execution_count": 168,
   "metadata": {
    "scrolled": false
   },
   "outputs": [
    {
     "name": "stdout",
     "output_type": "stream",
     "text": [
      "ASTI_Researchers_E_All_Data_(Normalized).zip\n",
      "ASTI_Research_Spending_E_All_Data_(Normalized).zip\n",
      "CommodityBalances_Crops_E_All_Data_(Normalized).zip\n",
      "CommodityBalances_LivestockFish_E_All_Data_(Normalized).zip\n",
      "ConsumerPriceIndices_E_All_Data_(Normalized).zip\n",
      "Deflators_E_All_Data_(Normalized).zip\n",
      "Emissions_Agriculture_Agriculture_total_E_All_Data_(Normalized).zip\n",
      "Emissions_Agriculture_Burning_crop_residues_E_All_Data_(Normalized).zip\n",
      "Emissions_Agriculture_Burning_Savanna_E_All_Data_(Normalized).zip\n",
      "Emissions_Agriculture_Crop_Residues_E_All_Data_(Normalized).zip\n",
      "Emissions_Agriculture_Cultivated_Organic_Soils_E_All_Data_(Normalized).zip\n",
      "Emissions_Agriculture_Energy_E_All_Data_(Normalized).zip\n",
      "unit not unique electricity_consumption_in_agriculture_eae ['Terajoule' 'million kWh']\n",
      "Emissions_Agriculture_Enteric_Fermentation_E_All_Data_(Normalized).zip\n",
      "Emissions_Agriculture_Manure_applied_to_soils_E_All_Data_(Normalized).zip\n",
      "Emissions_Agriculture_Manure_left_on_pasture_E_All_Data_(Normalized).zip\n",
      "Emissions_Agriculture_Manure_Management_E_All_Data_(Normalized).zip\n",
      "Emissions_Agriculture_Rice_Cultivation_E_All_Data_(Normalized).zip\n",
      "Emissions_Agriculture_Synthetic_Fertilizers_E_All_Data_(Normalized).zip\n",
      "Emissions_Land_Use_Burning_Biomass_E_All_Data_(Normalized).zip\n",
      "Emissions_Land_Use_Cropland_E_All_Data_(Normalized).zip\n",
      "Emissions_Land_Use_Forest_Land_E_All_Data_(Normalized).zip\n",
      "Emissions_Land_Use_Grassland_E_All_Data_(Normalized).zip\n",
      "Emissions_Land_Use_Land_Use_Total_E_All_Data_(Normalized).zip\n",
      "Environment_AirClimateChange_E_All_Data_(Normalized).zip\n",
      "Environment_Emissions_by_Sector_E_All_Data_(Normalized).zip\n",
      "Environment_Emissions_intensities_E_All_Data_(Normalized).zip\n",
      "Environment_Energy_E_All_Data_(Normalized).zip\n",
      "Environment_Fertilizers_E_All_Data_(Normalized).zip\n",
      "Environment_LandCover_E_All_Data_(Normalized).zip\n",
      "Environment_LandUse_E_All_Data_(Normalized).zip\n",
      "Environment_LivestockManure_E_All_Data_(Normalized).zip\n",
      "Environment_LivestockPatterns_E_All_Data_(Normalized).zip\n",
      "Environment_Pesticides_E_All_Data_(Normalized).zip\n",
      "Environment_Soil_E_All_Data_(Normalized).zip\n",
      "Environment_Water_E_All_Data_(Normalized).zip\n",
      "Exchange_rate_E_All_Data_(Normalized).zip\n",
      "FoodBalanceSheets_E_All_Data_(Normalized).zip\n",
      "FoodSupply_Crops_E_All_Data_(Normalized).zip\n",
      "FoodSupply_LivestockFish_E_All_Data_(Normalized).zip\n",
      "Forestry_E_All_Data_(Normalized).zip\n",
      "Inputs_FertilizersNutrient_E_All_Data_(Normalized).zip\n",
      "Inputs_FertilizersProduct_E_All_Data_(Normalized).zip\n",
      "Inputs_FertilizersTradeValues_E_All_Data_(Normalized).zip\n",
      "Inputs_LandUse_E_All_Data_(Normalized).zip\n",
      "Inputs_Pesticides_Trade_E_All_Data_(Normalized).zip\n",
      "Inputs_Pesticides_Use_E_All_Data_(Normalized).zip\n",
      "Investment_CapitalStock_E_All_Data_(Normalized).zip\n",
      "Investment_CountryInvestmentStatisticsProfile__E_All_Data_(Normalized).zip\n",
      "Investment_CreditAgriculture_E_All_Data_(Normalized).zip\n",
      "Investment_ForeignDirectInvestment_E_All_Data_(Normalized).zip\n",
      "Investment_GovernmentExpenditure_E_All_Data_(Normalized).zip\n",
      "Investment_Machinery_E_All_Data_(Normalized).zip\n",
      "Macro-Statistics_Key_Indicators_E_All_Data_(Normalized).zip\n",
      "Population_E_All_Data_(Normalized).zip\n",
      "PricesArchive_E_All_Data_(Normalized).zip\n",
      "Prices_E_All_Data_(Normalized).zip\n",
      "Price_Indices_E_All_Data_(Normalized).zip\n",
      "Production_CropsProcessed_E_All_Data_(Normalized).zip\n",
      "Production_Crops_E_All_Data_(Normalized).zip\n",
      "Production_Indices_E_All_Data_(Normalized).zip\n",
      "Production_LivestockPrimary_E_All_Data_(Normalized).zip\n",
      "unit not unique meat_indigenous_ass_production_ple ['Head' 'tonnes']\n",
      "unit not unique meat_indigenous_bird_nes_production_ple ['1000 Head' 'tonnes']\n",
      "unit not unique meat_indigenous_buffalo_production_ple ['Head' 'tonnes']\n",
      "unit not unique meat_indigenous_camel_production_ple ['Head' 'tonnes']\n",
      "unit not unique meat_indigenous_cattle_production_ple ['Head' 'tonnes']\n",
      "unit not unique meat_indigenous_chicken_production_ple ['1000 Head' 'tonnes']\n",
      "unit not unique meat_indigenous_duck_production_ple ['1000 Head' 'tonnes']\n",
      "unit not unique meat_indigenous_geese_production_ple ['1000 Head' 'tonnes']\n",
      "unit not unique meat_indigenous_goat_production_ple ['Head' 'tonnes']\n",
      "unit not unique meat_indigenous_horse_production_ple ['Head' 'tonnes']\n",
      "unit not unique meat_indigenous_mule_production_ple ['Head' 'tonnes']\n",
      "unit not unique meat_indigenous_other_camelids_production_ple ['Head' 'tonnes']\n",
      "unit not unique meat_indigenous_pig_production_ple ['Head' 'tonnes']\n",
      "unit not unique meat_indigenous_poultry_production_ple ['1000 Head' 'tonnes']\n",
      "unit not unique meat_indigenous_rabbit_production_ple ['1000 Head' 'tonnes']\n",
      "unit not unique meat_indigenous_rodents_production_ple ['1000 Head' 'tonnes']\n",
      "unit not unique meat_indigenous_sheep_production_ple ['Head' 'tonnes']\n",
      "unit not unique meat_indigenous_turkey_production_ple ['1000 Head' 'tonnes']\n",
      "Production_LivestockProcessed_E_All_Data_(Normalized).zip\n",
      "Production_Livestock_E_All_Data_(Normalized).zip\n",
      "Trade_Crops_Livestock_E_All_Data_(Normalized).zip\n",
      "Trade_Indices_E_All_Data_(Normalized).zip\n",
      "Trade_LiveAnimals_E_All_Data_(Normalized).zip\n",
      "unit not unique chickens_export_quantity_tle ['1000 Head' 'Head']\n",
      "unit not unique chickens_import_quantity_tle ['1000 Head' 'Head']\n",
      "unit not unique ducks_export_quantity_tle ['1000 Head' 'Head']\n",
      "unit not unique ducks_import_quantity_tle ['1000 Head' 'Head']\n",
      "unit not unique pigeons_other_birds_export_quantity_tle ['1000 Head' 'Head']\n",
      "unit not unique pigeons_other_birds_import_quantity_tle ['1000 Head' 'Head']\n",
      "unit not unique turkeys_export_quantity_tle ['1000 Head' 'Head']\n",
      "unit not unique turkeys_import_quantity_tle ['1000 Head' 'Head']\n",
      "Value_of_Production_E_All_Data_(Normalized).zip\n"
     ]
    }
   ],
   "source": [
    "for f in zf.filelist:\n",
    "    if f.filename in skipFiles or f.filename in processed:\n",
    "        continue\n",
    "    print(f.filename)\n",
    "    try:\n",
    "        concs_ = process_file(f.filename)\n",
    "    except (KeyError, ValueError) as e:\n",
    "        print('failed')\n",
    "        print(e)\n",
    "        failed.append(f.filename)\n",
    "        continue\n",
    "    [concs.append(x) for x in concs_]\n",
    "    processed.append(f.filename)"
   ]
  },
  {
   "cell_type": "code",
   "execution_count": 169,
   "metadata": {},
   "outputs": [
    {
     "data": {
      "text/plain": [
       "set()"
      ]
     },
     "execution_count": 169,
     "metadata": {},
     "output_type": "execute_result"
    }
   ],
   "source": [
    "set(failed)"
   ]
  },
  {
   "cell_type": "code",
   "execution_count": null,
   "metadata": {},
   "outputs": [],
   "source": []
  },
  {
   "cell_type": "code",
   "execution_count": 26,
   "metadata": {},
   "outputs": [],
   "source": [
    "# checking duplicates"
   ]
  },
  {
   "cell_type": "code",
   "execution_count": 29,
   "metadata": {},
   "outputs": [],
   "source": [
    "df = pd.read_csv(BytesIO(zf.read('CommodityBalances_LivestockFish_E_All_Data_(Normalized).zip')), \n",
    "                 encoding='latin1', \n",
    "                 compression='zip')"
   ]
  },
  {
   "cell_type": "code",
   "execution_count": 30,
   "metadata": {},
   "outputs": [
    {
     "data": {
      "text/html": [
       "<div>\n",
       "<style scoped>\n",
       "    .dataframe tbody tr th:only-of-type {\n",
       "        vertical-align: middle;\n",
       "    }\n",
       "\n",
       "    .dataframe tbody tr th {\n",
       "        vertical-align: top;\n",
       "    }\n",
       "\n",
       "    .dataframe thead th {\n",
       "        text-align: right;\n",
       "    }\n",
       "</style>\n",
       "<table border=\"1\" class=\"dataframe\">\n",
       "  <thead>\n",
       "    <tr style=\"text-align: right;\">\n",
       "      <th></th>\n",
       "      <th>Area Code</th>\n",
       "      <th>Area</th>\n",
       "      <th>Item Code</th>\n",
       "      <th>Item</th>\n",
       "      <th>Element Code</th>\n",
       "      <th>Element</th>\n",
       "      <th>Year Code</th>\n",
       "      <th>Year</th>\n",
       "      <th>Unit</th>\n",
       "      <th>Value</th>\n",
       "      <th>Flag</th>\n",
       "    </tr>\n",
       "  </thead>\n",
       "  <tbody>\n",
       "    <tr>\n",
       "      <th>0</th>\n",
       "      <td>2</td>\n",
       "      <td>Afghanistan</td>\n",
       "      <td>2731</td>\n",
       "      <td>Bovine Meat</td>\n",
       "      <td>5510</td>\n",
       "      <td>Production</td>\n",
       "      <td>1961</td>\n",
       "      <td>1961</td>\n",
       "      <td>tonnes</td>\n",
       "      <td>43000.0</td>\n",
       "      <td>S</td>\n",
       "    </tr>\n",
       "    <tr>\n",
       "      <th>1</th>\n",
       "      <td>2</td>\n",
       "      <td>Afghanistan</td>\n",
       "      <td>2731</td>\n",
       "      <td>Bovine Meat</td>\n",
       "      <td>5510</td>\n",
       "      <td>Production</td>\n",
       "      <td>1962</td>\n",
       "      <td>1962</td>\n",
       "      <td>tonnes</td>\n",
       "      <td>45800.0</td>\n",
       "      <td>S</td>\n",
       "    </tr>\n",
       "    <tr>\n",
       "      <th>2</th>\n",
       "      <td>2</td>\n",
       "      <td>Afghanistan</td>\n",
       "      <td>2731</td>\n",
       "      <td>Bovine Meat</td>\n",
       "      <td>5510</td>\n",
       "      <td>Production</td>\n",
       "      <td>1963</td>\n",
       "      <td>1963</td>\n",
       "      <td>tonnes</td>\n",
       "      <td>47250.0</td>\n",
       "      <td>S</td>\n",
       "    </tr>\n",
       "    <tr>\n",
       "      <th>3</th>\n",
       "      <td>2</td>\n",
       "      <td>Afghanistan</td>\n",
       "      <td>2731</td>\n",
       "      <td>Bovine Meat</td>\n",
       "      <td>5510</td>\n",
       "      <td>Production</td>\n",
       "      <td>1964</td>\n",
       "      <td>1964</td>\n",
       "      <td>tonnes</td>\n",
       "      <td>48000.0</td>\n",
       "      <td>S</td>\n",
       "    </tr>\n",
       "    <tr>\n",
       "      <th>4</th>\n",
       "      <td>2</td>\n",
       "      <td>Afghanistan</td>\n",
       "      <td>2731</td>\n",
       "      <td>Bovine Meat</td>\n",
       "      <td>5510</td>\n",
       "      <td>Production</td>\n",
       "      <td>1965</td>\n",
       "      <td>1965</td>\n",
       "      <td>tonnes</td>\n",
       "      <td>48700.0</td>\n",
       "      <td>S</td>\n",
       "    </tr>\n",
       "  </tbody>\n",
       "</table>\n",
       "</div>"
      ],
      "text/plain": [
       "   Area Code         Area  Item Code         Item  Element Code     Element  \\\n",
       "0          2  Afghanistan       2731  Bovine Meat          5510  Production   \n",
       "1          2  Afghanistan       2731  Bovine Meat          5510  Production   \n",
       "2          2  Afghanistan       2731  Bovine Meat          5510  Production   \n",
       "3          2  Afghanistan       2731  Bovine Meat          5510  Production   \n",
       "4          2  Afghanistan       2731  Bovine Meat          5510  Production   \n",
       "\n",
       "   Year Code  Year    Unit    Value Flag  \n",
       "0       1961  1961  tonnes  43000.0    S  \n",
       "1       1962  1962  tonnes  45800.0    S  \n",
       "2       1963  1963  tonnes  47250.0    S  \n",
       "3       1964  1964  tonnes  48000.0    S  \n",
       "4       1965  1965  tonnes  48700.0    S  "
      ]
     },
     "execution_count": 30,
     "metadata": {},
     "output_type": "execute_result"
    }
   ],
   "source": [
    "df.head()"
   ]
  },
  {
   "cell_type": "code",
   "execution_count": 32,
   "metadata": {},
   "outputs": [
    {
     "data": {
      "text/plain": [
       "array(['Bovine Meat', 'Butter, Ghee', 'Cheese', 'Cream', 'Eggs',\n",
       "       'Fats, Animals, Raw', 'Freshwater Fish', 'Hides and skins',\n",
       "       'Honey', 'Meat, Other', 'Milk - Excluding Butter', 'Milk, Skimmed',\n",
       "       'Milk, Whole', 'Mutton & Goat Meat', 'Offals, Edible',\n",
       "       'Poultry Meat', 'Silk', 'Whey', 'Wool (Clean Eq.)', 'Animal fats',\n",
       "       'Fish, Seafood', 'Meat', 'Offals', 'Aquatic Animals, Others',\n",
       "       'Aquatic Plants', 'Cephalopods', 'Crustaceans', 'Demersal Fish',\n",
       "       'Fish Meal', 'Fish, Body Oil', 'Fish, Liver Oil',\n",
       "       'Marine Fish, Other', 'Meat Meal', 'Molluscs, Other',\n",
       "       'Pelagic Fish', 'Pigmeat', 'Aquatic Products, Other',\n",
       "       'Meat, Aquatic Mammals'], dtype=object)"
      ]
     },
     "execution_count": 32,
     "metadata": {},
     "output_type": "execute_result"
    }
   ],
   "source": [
    "df['Item'].unique()"
   ]
  },
  {
   "cell_type": "code",
   "execution_count": 33,
   "metadata": {},
   "outputs": [
    {
     "data": {
      "text/plain": [
       "array(['Production', 'Import Quantity', 'Domestic supply quantity',\n",
       "       'Food supply quantity (tonnes)', 'Seed', 'Losses', 'Other uses',\n",
       "       'Stock Variation', 'Export Quantity', 'Feed', 'Processing'],\n",
       "      dtype=object)"
      ]
     },
     "execution_count": 33,
     "metadata": {},
     "output_type": "execute_result"
    }
   ],
   "source": [
    "df['Element'].unique()"
   ]
  },
  {
   "cell_type": "code",
   "execution_count": 43,
   "metadata": {},
   "outputs": [],
   "source": [
    "df_ = df.query(\"Item == 'Eggs' and Element == 'Domestic supply quantity'\")[['Area', 'Year', 'Value', 'Unit', 'Flag']]"
   ]
  },
  {
   "cell_type": "code",
   "execution_count": 46,
   "metadata": {},
   "outputs": [
    {
     "data": {
      "text/html": [
       "<div>\n",
       "<style scoped>\n",
       "    .dataframe tbody tr th:only-of-type {\n",
       "        vertical-align: middle;\n",
       "    }\n",
       "\n",
       "    .dataframe tbody tr th {\n",
       "        vertical-align: top;\n",
       "    }\n",
       "\n",
       "    .dataframe thead th {\n",
       "        text-align: right;\n",
       "    }\n",
       "</style>\n",
       "<table border=\"1\" class=\"dataframe\">\n",
       "  <thead>\n",
       "    <tr style=\"text-align: right;\">\n",
       "      <th></th>\n",
       "      <th>Area</th>\n",
       "      <th>Year</th>\n",
       "      <th>Value</th>\n",
       "      <th>Unit</th>\n",
       "      <th>Flag</th>\n",
       "    </tr>\n",
       "  </thead>\n",
       "  <tbody>\n",
       "    <tr>\n",
       "      <th>901</th>\n",
       "      <td>Afghanistan</td>\n",
       "      <td>1961</td>\n",
       "      <td>10000.0</td>\n",
       "      <td>tonnes</td>\n",
       "      <td>S</td>\n",
       "    </tr>\n",
       "    <tr>\n",
       "      <th>4876</th>\n",
       "      <td>Afghanistan</td>\n",
       "      <td>1961</td>\n",
       "      <td>10000.0</td>\n",
       "      <td>tonnes</td>\n",
       "      <td>A</td>\n",
       "    </tr>\n",
       "    <tr>\n",
       "      <th>902</th>\n",
       "      <td>Afghanistan</td>\n",
       "      <td>1962</td>\n",
       "      <td>11000.0</td>\n",
       "      <td>tonnes</td>\n",
       "      <td>S</td>\n",
       "    </tr>\n",
       "    <tr>\n",
       "      <th>4877</th>\n",
       "      <td>Afghanistan</td>\n",
       "      <td>1962</td>\n",
       "      <td>11000.0</td>\n",
       "      <td>tonnes</td>\n",
       "      <td>A</td>\n",
       "    </tr>\n",
       "    <tr>\n",
       "      <th>903</th>\n",
       "      <td>Afghanistan</td>\n",
       "      <td>1963</td>\n",
       "      <td>11500.0</td>\n",
       "      <td>tonnes</td>\n",
       "      <td>S</td>\n",
       "    </tr>\n",
       "  </tbody>\n",
       "</table>\n",
       "</div>"
      ],
      "text/plain": [
       "             Area  Year    Value    Unit Flag\n",
       "901   Afghanistan  1961  10000.0  tonnes    S\n",
       "4876  Afghanistan  1961  10000.0  tonnes    A\n",
       "902   Afghanistan  1962  11000.0  tonnes    S\n",
       "4877  Afghanistan  1962  11000.0  tonnes    A\n",
       "903   Afghanistan  1963  11500.0  tonnes    S"
      ]
     },
     "execution_count": 46,
     "metadata": {},
     "output_type": "execute_result"
    }
   ],
   "source": [
    "df_[df_.duplicated(subset=['Area', 'Year'], keep=False)].sort_values(by=['Area', 'Year']).head()"
   ]
  },
  {
   "cell_type": "code",
   "execution_count": 47,
   "metadata": {},
   "outputs": [],
   "source": [
    "# so we should keep only one Flag"
   ]
  },
  {
   "cell_type": "code",
   "execution_count": 48,
   "metadata": {},
   "outputs": [],
   "source": [
    "flags = pd.Categorical(['S', 'A', 'SD', 'M'])"
   ]
  },
  {
   "cell_type": "code",
   "execution_count": 51,
   "metadata": {},
   "outputs": [
    {
     "name": "stderr",
     "output_type": "stream",
     "text": [
      "/Users/semio/.pyenv/versions/3.6.5/lib/python3.6/site-packages/ipykernel_launcher.py:1: FutureWarning: specifying 'categories' or 'ordered' in .astype() is deprecated; pass a CategoricalDtype instead\n",
      "  \"\"\"Entry point for launching an IPython kernel.\n"
     ]
    }
   ],
   "source": [
    "flags = df_['Flag'].astype('category', ordered=True, categories=['S', 'A', 'SD', 'M'])"
   ]
  },
  {
   "cell_type": "code",
   "execution_count": null,
   "metadata": {},
   "outputs": [],
   "source": []
  },
  {
   "cell_type": "code",
   "execution_count": 62,
   "metadata": {},
   "outputs": [],
   "source": [
    "# checking non unique units"
   ]
  },
  {
   "cell_type": "code",
   "execution_count": 184,
   "metadata": {},
   "outputs": [],
   "source": [
    "fn = 'Emissions_Agriculture_Energy_E_All_Data_(Normalized).zip'\n",
    "df = pd.read_csv(BytesIO(zf.read(fn)), \n",
    "                 encoding='latin1', \n",
    "                 compression='zip')"
   ]
  },
  {
   "cell_type": "code",
   "execution_count": 185,
   "metadata": {},
   "outputs": [
    {
     "data": {
      "text/html": [
       "<div>\n",
       "<style scoped>\n",
       "    .dataframe tbody tr th:only-of-type {\n",
       "        vertical-align: middle;\n",
       "    }\n",
       "\n",
       "    .dataframe tbody tr th {\n",
       "        vertical-align: top;\n",
       "    }\n",
       "\n",
       "    .dataframe thead th {\n",
       "        text-align: right;\n",
       "    }\n",
       "</style>\n",
       "<table border=\"1\" class=\"dataframe\">\n",
       "  <thead>\n",
       "    <tr style=\"text-align: right;\">\n",
       "      <th></th>\n",
       "      <th>Country Code</th>\n",
       "      <th>Country</th>\n",
       "      <th>Item Code</th>\n",
       "      <th>Item</th>\n",
       "      <th>Element Code</th>\n",
       "      <th>Element</th>\n",
       "      <th>Year Code</th>\n",
       "      <th>Year</th>\n",
       "      <th>Unit</th>\n",
       "      <th>Value</th>\n",
       "      <th>Flag</th>\n",
       "    </tr>\n",
       "  </thead>\n",
       "  <tbody>\n",
       "    <tr>\n",
       "      <th>0</th>\n",
       "      <td>351</td>\n",
       "      <td>China</td>\n",
       "      <td>6801</td>\n",
       "      <td>Gas-Diesel oil</td>\n",
       "      <td>72184</td>\n",
       "      <td>Consumption in Agriculture</td>\n",
       "      <td>1986</td>\n",
       "      <td>1986</td>\n",
       "      <td>Terajoule</td>\n",
       "      <td>288659.0</td>\n",
       "      <td>Fc</td>\n",
       "    </tr>\n",
       "    <tr>\n",
       "      <th>1</th>\n",
       "      <td>351</td>\n",
       "      <td>China</td>\n",
       "      <td>6801</td>\n",
       "      <td>Gas-Diesel oil</td>\n",
       "      <td>72184</td>\n",
       "      <td>Consumption in Agriculture</td>\n",
       "      <td>1987</td>\n",
       "      <td>1987</td>\n",
       "      <td>Terajoule</td>\n",
       "      <td>313771.0</td>\n",
       "      <td>Fc</td>\n",
       "    </tr>\n",
       "    <tr>\n",
       "      <th>2</th>\n",
       "      <td>351</td>\n",
       "      <td>China</td>\n",
       "      <td>6801</td>\n",
       "      <td>Gas-Diesel oil</td>\n",
       "      <td>72184</td>\n",
       "      <td>Consumption in Agriculture</td>\n",
       "      <td>1988</td>\n",
       "      <td>1988</td>\n",
       "      <td>Terajoule</td>\n",
       "      <td>329896.0</td>\n",
       "      <td>Fc</td>\n",
       "    </tr>\n",
       "    <tr>\n",
       "      <th>3</th>\n",
       "      <td>351</td>\n",
       "      <td>China</td>\n",
       "      <td>6801</td>\n",
       "      <td>Gas-Diesel oil</td>\n",
       "      <td>72184</td>\n",
       "      <td>Consumption in Agriculture</td>\n",
       "      <td>1989</td>\n",
       "      <td>1989</td>\n",
       "      <td>Terajoule</td>\n",
       "      <td>355094.0</td>\n",
       "      <td>Fc</td>\n",
       "    </tr>\n",
       "    <tr>\n",
       "      <th>4</th>\n",
       "      <td>351</td>\n",
       "      <td>China</td>\n",
       "      <td>6801</td>\n",
       "      <td>Gas-Diesel oil</td>\n",
       "      <td>72184</td>\n",
       "      <td>Consumption in Agriculture</td>\n",
       "      <td>1990</td>\n",
       "      <td>1990</td>\n",
       "      <td>Terajoule</td>\n",
       "      <td>379045.0</td>\n",
       "      <td>Fc</td>\n",
       "    </tr>\n",
       "  </tbody>\n",
       "</table>\n",
       "</div>"
      ],
      "text/plain": [
       "   Country Code Country  Item Code            Item  Element Code  \\\n",
       "0           351   China       6801  Gas-Diesel oil         72184   \n",
       "1           351   China       6801  Gas-Diesel oil         72184   \n",
       "2           351   China       6801  Gas-Diesel oil         72184   \n",
       "3           351   China       6801  Gas-Diesel oil         72184   \n",
       "4           351   China       6801  Gas-Diesel oil         72184   \n",
       "\n",
       "                      Element  Year Code  Year       Unit     Value Flag  \n",
       "0  Consumption in Agriculture       1986  1986  Terajoule  288659.0   Fc  \n",
       "1  Consumption in Agriculture       1987  1987  Terajoule  313771.0   Fc  \n",
       "2  Consumption in Agriculture       1988  1988  Terajoule  329896.0   Fc  \n",
       "3  Consumption in Agriculture       1989  1989  Terajoule  355094.0   Fc  \n",
       "4  Consumption in Agriculture       1990  1990  Terajoule  379045.0   Fc  "
      ]
     },
     "execution_count": 185,
     "metadata": {},
     "output_type": "execute_result"
    }
   ],
   "source": [
    "df.head()"
   ]
  },
  {
   "cell_type": "code",
   "execution_count": 186,
   "metadata": {},
   "outputs": [
    {
     "data": {
      "text/html": [
       "<div>\n",
       "<style scoped>\n",
       "    .dataframe tbody tr th:only-of-type {\n",
       "        vertical-align: middle;\n",
       "    }\n",
       "\n",
       "    .dataframe tbody tr th {\n",
       "        vertical-align: top;\n",
       "    }\n",
       "\n",
       "    .dataframe thead th {\n",
       "        text-align: right;\n",
       "    }\n",
       "</style>\n",
       "<table border=\"1\" class=\"dataframe\">\n",
       "  <thead>\n",
       "    <tr style=\"text-align: right;\">\n",
       "      <th></th>\n",
       "      <th>Country Code</th>\n",
       "      <th>Country</th>\n",
       "      <th>Item Code</th>\n",
       "      <th>Item</th>\n",
       "      <th>Element Code</th>\n",
       "      <th>Element</th>\n",
       "      <th>Year Code</th>\n",
       "      <th>Year</th>\n",
       "      <th>Unit</th>\n",
       "      <th>Value</th>\n",
       "      <th>Flag</th>\n",
       "    </tr>\n",
       "  </thead>\n",
       "  <tbody>\n",
       "    <tr>\n",
       "      <th>1480</th>\n",
       "      <td>351</td>\n",
       "      <td>China</td>\n",
       "      <td>6807</td>\n",
       "      <td>Electricity</td>\n",
       "      <td>72184</td>\n",
       "      <td>Consumption in Agriculture</td>\n",
       "      <td>1970</td>\n",
       "      <td>1970</td>\n",
       "      <td>Terajoule</td>\n",
       "      <td>0.0</td>\n",
       "      <td>A</td>\n",
       "    </tr>\n",
       "    <tr>\n",
       "      <th>1481</th>\n",
       "      <td>351</td>\n",
       "      <td>China</td>\n",
       "      <td>6807</td>\n",
       "      <td>Electricity</td>\n",
       "      <td>72182</td>\n",
       "      <td>Consumption in Agriculture</td>\n",
       "      <td>1970</td>\n",
       "      <td>1970</td>\n",
       "      <td>million kWh</td>\n",
       "      <td>0.0</td>\n",
       "      <td>A</td>\n",
       "    </tr>\n",
       "    <tr>\n",
       "      <th>1482</th>\n",
       "      <td>351</td>\n",
       "      <td>China</td>\n",
       "      <td>6807</td>\n",
       "      <td>Electricity</td>\n",
       "      <td>72182</td>\n",
       "      <td>Consumption in Agriculture</td>\n",
       "      <td>1971</td>\n",
       "      <td>1971</td>\n",
       "      <td>million kWh</td>\n",
       "      <td>1.0</td>\n",
       "      <td>A</td>\n",
       "    </tr>\n",
       "    <tr>\n",
       "      <th>1483</th>\n",
       "      <td>351</td>\n",
       "      <td>China</td>\n",
       "      <td>6807</td>\n",
       "      <td>Electricity</td>\n",
       "      <td>72184</td>\n",
       "      <td>Consumption in Agriculture</td>\n",
       "      <td>1971</td>\n",
       "      <td>1971</td>\n",
       "      <td>Terajoule</td>\n",
       "      <td>3.6</td>\n",
       "      <td>A</td>\n",
       "    </tr>\n",
       "    <tr>\n",
       "      <th>1484</th>\n",
       "      <td>351</td>\n",
       "      <td>China</td>\n",
       "      <td>6807</td>\n",
       "      <td>Electricity</td>\n",
       "      <td>72184</td>\n",
       "      <td>Consumption in Agriculture</td>\n",
       "      <td>1972</td>\n",
       "      <td>1972</td>\n",
       "      <td>Terajoule</td>\n",
       "      <td>3.6</td>\n",
       "      <td>A</td>\n",
       "    </tr>\n",
       "  </tbody>\n",
       "</table>\n",
       "</div>"
      ],
      "text/plain": [
       "      Country Code Country  Item Code         Item  Element Code  \\\n",
       "1480           351   China       6807  Electricity         72184   \n",
       "1481           351   China       6807  Electricity         72182   \n",
       "1482           351   China       6807  Electricity         72182   \n",
       "1483           351   China       6807  Electricity         72184   \n",
       "1484           351   China       6807  Electricity         72184   \n",
       "\n",
       "                         Element  Year Code  Year         Unit  Value Flag  \n",
       "1480  Consumption in Agriculture       1970  1970    Terajoule    0.0    A  \n",
       "1481  Consumption in Agriculture       1970  1970  million kWh    0.0    A  \n",
       "1482  Consumption in Agriculture       1971  1971  million kWh    1.0    A  \n",
       "1483  Consumption in Agriculture       1971  1971    Terajoule    3.6    A  \n",
       "1484  Consumption in Agriculture       1972  1972    Terajoule    3.6    A  "
      ]
     },
     "execution_count": 186,
     "metadata": {},
     "output_type": "execute_result"
    }
   ],
   "source": [
    "gs = df.groupby(['Item', 'Element'])\n",
    "gs.get_group(('Electricity', 'Consumption in Agriculture')).head()"
   ]
  },
  {
   "cell_type": "code",
   "execution_count": null,
   "metadata": {},
   "outputs": [],
   "source": []
  },
  {
   "cell_type": "code",
   "execution_count": null,
   "metadata": {},
   "outputs": [],
   "source": [
    "# other checkings"
   ]
  },
  {
   "cell_type": "code",
   "execution_count": 188,
   "metadata": {},
   "outputs": [],
   "source": [
    "fn = 'Exchange_rate_E_All_Data_(Normalized).zip'\n",
    "df = pd.read_csv(BytesIO(zf.read(fn)), \n",
    "                 encoding='latin1', \n",
    "                 compression='zip')"
   ]
  },
  {
   "cell_type": "code",
   "execution_count": 189,
   "metadata": {},
   "outputs": [
    {
     "data": {
      "text/html": [
       "<div>\n",
       "<style scoped>\n",
       "    .dataframe tbody tr th:only-of-type {\n",
       "        vertical-align: middle;\n",
       "    }\n",
       "\n",
       "    .dataframe tbody tr th {\n",
       "        vertical-align: top;\n",
       "    }\n",
       "\n",
       "    .dataframe thead th {\n",
       "        text-align: right;\n",
       "    }\n",
       "</style>\n",
       "<table border=\"1\" class=\"dataframe\">\n",
       "  <thead>\n",
       "    <tr style=\"text-align: right;\">\n",
       "      <th></th>\n",
       "      <th>Area Code</th>\n",
       "      <th>Area</th>\n",
       "      <th>Item Code</th>\n",
       "      <th>Item</th>\n",
       "      <th>ISO Currency Code</th>\n",
       "      <th>Currency</th>\n",
       "      <th>Year Code</th>\n",
       "      <th>Year</th>\n",
       "      <th>Unit</th>\n",
       "      <th>Value</th>\n",
       "      <th>Flag</th>\n",
       "    </tr>\n",
       "  </thead>\n",
       "  <tbody>\n",
       "    <tr>\n",
       "      <th>0</th>\n",
       "      <td>2</td>\n",
       "      <td>Afghanistan</td>\n",
       "      <td>5540</td>\n",
       "      <td>Standard local currency units per USD</td>\n",
       "      <td>AFN</td>\n",
       "      <td>Afghani</td>\n",
       "      <td>1970</td>\n",
       "      <td>1970</td>\n",
       "      <td>NaN</td>\n",
       "      <td>0.045</td>\n",
       "      <td>XAM</td>\n",
       "    </tr>\n",
       "    <tr>\n",
       "      <th>1</th>\n",
       "      <td>2</td>\n",
       "      <td>Afghanistan</td>\n",
       "      <td>5540</td>\n",
       "      <td>Standard local currency units per USD</td>\n",
       "      <td>AFN</td>\n",
       "      <td>Afghani</td>\n",
       "      <td>1971</td>\n",
       "      <td>1971</td>\n",
       "      <td>NaN</td>\n",
       "      <td>0.045</td>\n",
       "      <td>XAM</td>\n",
       "    </tr>\n",
       "    <tr>\n",
       "      <th>2</th>\n",
       "      <td>2</td>\n",
       "      <td>Afghanistan</td>\n",
       "      <td>5540</td>\n",
       "      <td>Standard local currency units per USD</td>\n",
       "      <td>AFN</td>\n",
       "      <td>Afghani</td>\n",
       "      <td>1972</td>\n",
       "      <td>1972</td>\n",
       "      <td>NaN</td>\n",
       "      <td>0.045</td>\n",
       "      <td>XAM</td>\n",
       "    </tr>\n",
       "    <tr>\n",
       "      <th>3</th>\n",
       "      <td>2</td>\n",
       "      <td>Afghanistan</td>\n",
       "      <td>5540</td>\n",
       "      <td>Standard local currency units per USD</td>\n",
       "      <td>AFN</td>\n",
       "      <td>Afghani</td>\n",
       "      <td>1973</td>\n",
       "      <td>1973</td>\n",
       "      <td>NaN</td>\n",
       "      <td>0.045</td>\n",
       "      <td>XAM</td>\n",
       "    </tr>\n",
       "    <tr>\n",
       "      <th>4</th>\n",
       "      <td>2</td>\n",
       "      <td>Afghanistan</td>\n",
       "      <td>5540</td>\n",
       "      <td>Standard local currency units per USD</td>\n",
       "      <td>AFN</td>\n",
       "      <td>Afghani</td>\n",
       "      <td>1974</td>\n",
       "      <td>1974</td>\n",
       "      <td>NaN</td>\n",
       "      <td>0.045</td>\n",
       "      <td>XAM</td>\n",
       "    </tr>\n",
       "  </tbody>\n",
       "</table>\n",
       "</div>"
      ],
      "text/plain": [
       "   Area Code         Area  Item Code                                   Item  \\\n",
       "0          2  Afghanistan       5540  Standard local currency units per USD   \n",
       "1          2  Afghanistan       5540  Standard local currency units per USD   \n",
       "2          2  Afghanistan       5540  Standard local currency units per USD   \n",
       "3          2  Afghanistan       5540  Standard local currency units per USD   \n",
       "4          2  Afghanistan       5540  Standard local currency units per USD   \n",
       "\n",
       "  ISO Currency Code Currency  Year Code  Year  Unit  Value Flag  \n",
       "0               AFN  Afghani       1970  1970   NaN  0.045  XAM  \n",
       "1               AFN  Afghani       1971  1971   NaN  0.045  XAM  \n",
       "2               AFN  Afghani       1972  1972   NaN  0.045  XAM  \n",
       "3               AFN  Afghani       1973  1973   NaN  0.045  XAM  \n",
       "4               AFN  Afghani       1974  1974   NaN  0.045  XAM  "
      ]
     },
     "execution_count": 189,
     "metadata": {},
     "output_type": "execute_result"
    }
   ],
   "source": [
    "df.head()"
   ]
  },
  {
   "cell_type": "code",
   "execution_count": 191,
   "metadata": {},
   "outputs": [
    {
     "data": {
      "text/html": [
       "<div>\n",
       "<style scoped>\n",
       "    .dataframe tbody tr th:only-of-type {\n",
       "        vertical-align: middle;\n",
       "    }\n",
       "\n",
       "    .dataframe tbody tr th {\n",
       "        vertical-align: top;\n",
       "    }\n",
       "\n",
       "    .dataframe thead th {\n",
       "        text-align: right;\n",
       "    }\n",
       "</style>\n",
       "<table border=\"1\" class=\"dataframe\">\n",
       "  <thead>\n",
       "    <tr style=\"text-align: right;\">\n",
       "      <th></th>\n",
       "      <th>Area Code</th>\n",
       "      <th>Area</th>\n",
       "      <th>Item Code</th>\n",
       "      <th>Item</th>\n",
       "      <th>ISO Currency Code</th>\n",
       "      <th>Currency</th>\n",
       "      <th>Year Code</th>\n",
       "      <th>Year</th>\n",
       "      <th>Unit</th>\n",
       "      <th>Value</th>\n",
       "      <th>Flag</th>\n",
       "    </tr>\n",
       "  </thead>\n",
       "  <tbody>\n",
       "    <tr>\n",
       "      <th>9162</th>\n",
       "      <td>3698</td>\n",
       "      <td>United Republic of Tanzania, Zanzibar</td>\n",
       "      <td>5540</td>\n",
       "      <td>Standard local currency units per USD</td>\n",
       "      <td>TZS</td>\n",
       "      <td>Tanzanian Shilling</td>\n",
       "      <td>1990</td>\n",
       "      <td>1990</td>\n",
       "      <td>NaN</td>\n",
       "      <td>195.0559</td>\n",
       "      <td>XAM</td>\n",
       "    </tr>\n",
       "    <tr>\n",
       "      <th>9163</th>\n",
       "      <td>3698</td>\n",
       "      <td>United Republic of Tanzania, Zanzibar</td>\n",
       "      <td>5540</td>\n",
       "      <td>Standard local currency units per USD</td>\n",
       "      <td>TZS</td>\n",
       "      <td>Tanzanian Shilling</td>\n",
       "      <td>1991</td>\n",
       "      <td>1991</td>\n",
       "      <td>NaN</td>\n",
       "      <td>219.1574</td>\n",
       "      <td>XAM</td>\n",
       "    </tr>\n",
       "    <tr>\n",
       "      <th>9164</th>\n",
       "      <td>3698</td>\n",
       "      <td>United Republic of Tanzania, Zanzibar</td>\n",
       "      <td>5540</td>\n",
       "      <td>Standard local currency units per USD</td>\n",
       "      <td>TZS</td>\n",
       "      <td>Tanzanian Shilling</td>\n",
       "      <td>1992</td>\n",
       "      <td>1992</td>\n",
       "      <td>NaN</td>\n",
       "      <td>297.7081</td>\n",
       "      <td>XAM</td>\n",
       "    </tr>\n",
       "    <tr>\n",
       "      <th>9165</th>\n",
       "      <td>3698</td>\n",
       "      <td>United Republic of Tanzania, Zanzibar</td>\n",
       "      <td>5540</td>\n",
       "      <td>Standard local currency units per USD</td>\n",
       "      <td>TZS</td>\n",
       "      <td>Tanzanian Shilling</td>\n",
       "      <td>1993</td>\n",
       "      <td>1993</td>\n",
       "      <td>NaN</td>\n",
       "      <td>405.2740</td>\n",
       "      <td>XAM</td>\n",
       "    </tr>\n",
       "    <tr>\n",
       "      <th>9166</th>\n",
       "      <td>3698</td>\n",
       "      <td>United Republic of Tanzania, Zanzibar</td>\n",
       "      <td>5540</td>\n",
       "      <td>Standard local currency units per USD</td>\n",
       "      <td>TZS</td>\n",
       "      <td>Tanzanian Shilling</td>\n",
       "      <td>1994</td>\n",
       "      <td>1994</td>\n",
       "      <td>NaN</td>\n",
       "      <td>509.6309</td>\n",
       "      <td>XAM</td>\n",
       "    </tr>\n",
       "  </tbody>\n",
       "</table>\n",
       "</div>"
      ],
      "text/plain": [
       "      Area Code                                   Area  Item Code  \\\n",
       "9162       3698  United Republic of Tanzania, Zanzibar       5540   \n",
       "9163       3698  United Republic of Tanzania, Zanzibar       5540   \n",
       "9164       3698  United Republic of Tanzania, Zanzibar       5540   \n",
       "9165       3698  United Republic of Tanzania, Zanzibar       5540   \n",
       "9166       3698  United Republic of Tanzania, Zanzibar       5540   \n",
       "\n",
       "                                       Item ISO Currency Code  \\\n",
       "9162  Standard local currency units per USD               TZS   \n",
       "9163  Standard local currency units per USD               TZS   \n",
       "9164  Standard local currency units per USD               TZS   \n",
       "9165  Standard local currency units per USD               TZS   \n",
       "9166  Standard local currency units per USD               TZS   \n",
       "\n",
       "                Currency  Year Code  Year  Unit     Value Flag  \n",
       "9162  Tanzanian Shilling       1990  1990   NaN  195.0559  XAM  \n",
       "9163  Tanzanian Shilling       1991  1991   NaN  219.1574  XAM  \n",
       "9164  Tanzanian Shilling       1992  1992   NaN  297.7081  XAM  \n",
       "9165  Tanzanian Shilling       1993  1993   NaN  405.2740  XAM  \n",
       "9166  Tanzanian Shilling       1994  1994   NaN  509.6309  XAM  "
      ]
     },
     "execution_count": 191,
     "metadata": {},
     "output_type": "execute_result"
    }
   ],
   "source": [
    "df[df['Area Code'] == 3698].head()"
   ]
  },
  {
   "cell_type": "code",
   "execution_count": null,
   "metadata": {},
   "outputs": [],
   "source": []
  },
  {
   "cell_type": "code",
   "execution_count": null,
   "metadata": {},
   "outputs": [],
   "source": []
  },
  {
   "cell_type": "code",
   "execution_count": null,
   "metadata": {},
   "outputs": [],
   "source": []
  },
  {
   "cell_type": "code",
   "execution_count": 125,
   "metadata": {},
   "outputs": [],
   "source": [
    "import requests as r"
   ]
  },
  {
   "cell_type": "code",
   "execution_count": 106,
   "metadata": {},
   "outputs": [],
   "source": [
    "url_group = 'http://fenixservices.fao.org/faostat/api/v1/en/definitions/types/areagroup'\n",
    "url_area = 'http://fenixservices.fao.org/faostat/api/v1/en/definitions/types/area'"
   ]
  },
  {
   "cell_type": "code",
   "execution_count": 107,
   "metadata": {},
   "outputs": [],
   "source": [
    "areagroup = r.get(url_group).json()\n",
    "\n",
    "area = r.get(url_area).json()"
   ]
  },
  {
   "cell_type": "code",
   "execution_count": 108,
   "metadata": {},
   "outputs": [],
   "source": [
    "areaDf = pd.DataFrame.from_records(area['data'])\n",
    "areagroupDf = pd.DataFrame.from_records(areagroup['data'])"
   ]
  },
  {
   "cell_type": "code",
   "execution_count": 109,
   "metadata": {
    "scrolled": false
   },
   "outputs": [
    {
     "data": {
      "text/html": [
       "<div>\n",
       "<style scoped>\n",
       "    .dataframe tbody tr th:only-of-type {\n",
       "        vertical-align: middle;\n",
       "    }\n",
       "\n",
       "    .dataframe tbody tr th {\n",
       "        vertical-align: top;\n",
       "    }\n",
       "\n",
       "    .dataframe thead th {\n",
       "        text-align: right;\n",
       "    }\n",
       "</style>\n",
       "<table border=\"1\" class=\"dataframe\">\n",
       "  <thead>\n",
       "    <tr style=\"text-align: right;\">\n",
       "      <th></th>\n",
       "      <th>Country</th>\n",
       "      <th>Country Code</th>\n",
       "      <th>End Year</th>\n",
       "      <th>ISO2 Code</th>\n",
       "      <th>ISO3 Code</th>\n",
       "      <th>M49 Code</th>\n",
       "      <th>Start Year</th>\n",
       "    </tr>\n",
       "  </thead>\n",
       "  <tbody>\n",
       "    <tr>\n",
       "      <th>0</th>\n",
       "      <td>Afghanistan</td>\n",
       "      <td>2</td>\n",
       "      <td></td>\n",
       "      <td>AF</td>\n",
       "      <td>AFG</td>\n",
       "      <td>4</td>\n",
       "      <td></td>\n",
       "    </tr>\n",
       "    <tr>\n",
       "      <th>1</th>\n",
       "      <td>Africa</td>\n",
       "      <td>5100</td>\n",
       "      <td></td>\n",
       "      <td></td>\n",
       "      <td></td>\n",
       "      <td>2</td>\n",
       "      <td></td>\n",
       "    </tr>\n",
       "    <tr>\n",
       "      <th>2</th>\n",
       "      <td>Åland Islands</td>\n",
       "      <td>284</td>\n",
       "      <td></td>\n",
       "      <td></td>\n",
       "      <td>ALA</td>\n",
       "      <td>248</td>\n",
       "      <td></td>\n",
       "    </tr>\n",
       "    <tr>\n",
       "      <th>3</th>\n",
       "      <td>Albania</td>\n",
       "      <td>3</td>\n",
       "      <td></td>\n",
       "      <td>AL</td>\n",
       "      <td>ALB</td>\n",
       "      <td>8</td>\n",
       "      <td></td>\n",
       "    </tr>\n",
       "    <tr>\n",
       "      <th>4</th>\n",
       "      <td>Algeria</td>\n",
       "      <td>4</td>\n",
       "      <td></td>\n",
       "      <td>DZ</td>\n",
       "      <td>DZA</td>\n",
       "      <td>12</td>\n",
       "      <td></td>\n",
       "    </tr>\n",
       "  </tbody>\n",
       "</table>\n",
       "</div>"
      ],
      "text/plain": [
       "         Country Country Code End Year ISO2 Code ISO3 Code M49 Code Start Year\n",
       "0    Afghanistan            2                 AF       AFG        4           \n",
       "1         Africa         5100                                     2           \n",
       "2  Åland Islands          284                          ALA      248           \n",
       "3        Albania            3                 AL       ALB        8           \n",
       "4        Algeria            4                 DZ       DZA       12           "
      ]
     },
     "execution_count": 109,
     "metadata": {},
     "output_type": "execute_result"
    }
   ],
   "source": [
    "areaDf.head()"
   ]
  },
  {
   "cell_type": "code",
   "execution_count": 110,
   "metadata": {},
   "outputs": [
    {
     "data": {
      "text/html": [
       "<div>\n",
       "<style scoped>\n",
       "    .dataframe tbody tr th:only-of-type {\n",
       "        vertical-align: middle;\n",
       "    }\n",
       "\n",
       "    .dataframe tbody tr th {\n",
       "        vertical-align: top;\n",
       "    }\n",
       "\n",
       "    .dataframe thead th {\n",
       "        text-align: right;\n",
       "    }\n",
       "</style>\n",
       "<table border=\"1\" class=\"dataframe\">\n",
       "  <thead>\n",
       "    <tr style=\"text-align: right;\">\n",
       "      <th></th>\n",
       "      <th>Country</th>\n",
       "      <th>Country Code</th>\n",
       "      <th>Country Group</th>\n",
       "      <th>Country Group Code</th>\n",
       "      <th>ISO2 Code</th>\n",
       "      <th>ISO3 Code</th>\n",
       "      <th>M49 Code</th>\n",
       "    </tr>\n",
       "  </thead>\n",
       "  <tbody>\n",
       "    <tr>\n",
       "      <th>0</th>\n",
       "      <td>Algeria</td>\n",
       "      <td>4</td>\n",
       "      <td>Africa</td>\n",
       "      <td>5100</td>\n",
       "      <td>DZ</td>\n",
       "      <td>DZA</td>\n",
       "      <td>12</td>\n",
       "    </tr>\n",
       "    <tr>\n",
       "      <th>1</th>\n",
       "      <td>Angola</td>\n",
       "      <td>7</td>\n",
       "      <td>Africa</td>\n",
       "      <td>5100</td>\n",
       "      <td>AO</td>\n",
       "      <td>AGO</td>\n",
       "      <td>24</td>\n",
       "    </tr>\n",
       "    <tr>\n",
       "      <th>2</th>\n",
       "      <td>Benin</td>\n",
       "      <td>53</td>\n",
       "      <td>Africa</td>\n",
       "      <td>5100</td>\n",
       "      <td>BJ</td>\n",
       "      <td>BEN</td>\n",
       "      <td>204</td>\n",
       "    </tr>\n",
       "    <tr>\n",
       "      <th>3</th>\n",
       "      <td>Botswana</td>\n",
       "      <td>20</td>\n",
       "      <td>Africa</td>\n",
       "      <td>5100</td>\n",
       "      <td>BW</td>\n",
       "      <td>BWA</td>\n",
       "      <td>72</td>\n",
       "    </tr>\n",
       "    <tr>\n",
       "      <th>4</th>\n",
       "      <td>British Indian Ocean Territory</td>\n",
       "      <td>24</td>\n",
       "      <td>Africa</td>\n",
       "      <td>5100</td>\n",
       "      <td>IO</td>\n",
       "      <td>IOT</td>\n",
       "      <td>86</td>\n",
       "    </tr>\n",
       "  </tbody>\n",
       "</table>\n",
       "</div>"
      ],
      "text/plain": [
       "                          Country Country Code Country Group  \\\n",
       "0                         Algeria            4        Africa   \n",
       "1                          Angola            7        Africa   \n",
       "2                           Benin           53        Africa   \n",
       "3                        Botswana           20        Africa   \n",
       "4  British Indian Ocean Territory           24        Africa   \n",
       "\n",
       "  Country Group Code ISO2 Code ISO3 Code M49 Code  \n",
       "0               5100        DZ       DZA       12  \n",
       "1               5100        AO       AGO       24  \n",
       "2               5100        BJ       BEN      204  \n",
       "3               5100        BW       BWA       72  \n",
       "4               5100        IO       IOT       86  "
      ]
     },
     "execution_count": 110,
     "metadata": {},
     "output_type": "execute_result"
    }
   ],
   "source": [
    "areagroupDf.head()"
   ]
  },
  {
   "cell_type": "code",
   "execution_count": 111,
   "metadata": {
    "scrolled": true
   },
   "outputs": [],
   "source": [
    "area_to_group = areagroupDf.groupby('Country Code')['Country Group Code'].agg(lambda xs: ','.join(xs.values)).reset_index()"
   ]
  },
  {
   "cell_type": "code",
   "execution_count": 112,
   "metadata": {},
   "outputs": [],
   "source": [
    "areaDf['is--country'] = False\n",
    "areaDf['is--country_group'] = False"
   ]
  },
  {
   "cell_type": "code",
   "execution_count": 113,
   "metadata": {},
   "outputs": [],
   "source": [
    "areaDf.loc[areaDf['Country Code'].isin(areagroupDf['Country Code'].values), 'is--country'] = True"
   ]
  },
  {
   "cell_type": "code",
   "execution_count": 114,
   "metadata": {},
   "outputs": [],
   "source": [
    "areaDf.loc[areaDf['Country Code'].isin(areagroupDf['Country Group Code'].values), 'is--country_group'] = True"
   ]
  },
  {
   "cell_type": "code",
   "execution_count": 115,
   "metadata": {},
   "outputs": [
    {
     "data": {
      "text/html": [
       "<div>\n",
       "<style scoped>\n",
       "    .dataframe tbody tr th:only-of-type {\n",
       "        vertical-align: middle;\n",
       "    }\n",
       "\n",
       "    .dataframe tbody tr th {\n",
       "        vertical-align: top;\n",
       "    }\n",
       "\n",
       "    .dataframe thead th {\n",
       "        text-align: right;\n",
       "    }\n",
       "</style>\n",
       "<table border=\"1\" class=\"dataframe\">\n",
       "  <thead>\n",
       "    <tr style=\"text-align: right;\">\n",
       "      <th></th>\n",
       "      <th>Country</th>\n",
       "      <th>Country Code</th>\n",
       "      <th>End Year</th>\n",
       "      <th>ISO2 Code</th>\n",
       "      <th>ISO3 Code</th>\n",
       "      <th>M49 Code</th>\n",
       "      <th>Start Year</th>\n",
       "      <th>is--country</th>\n",
       "      <th>is--country_group</th>\n",
       "    </tr>\n",
       "  </thead>\n",
       "  <tbody>\n",
       "    <tr>\n",
       "      <th>0</th>\n",
       "      <td>Afghanistan</td>\n",
       "      <td>2</td>\n",
       "      <td></td>\n",
       "      <td>AF</td>\n",
       "      <td>AFG</td>\n",
       "      <td>4</td>\n",
       "      <td></td>\n",
       "      <td>True</td>\n",
       "      <td>False</td>\n",
       "    </tr>\n",
       "    <tr>\n",
       "      <th>1</th>\n",
       "      <td>Africa</td>\n",
       "      <td>5100</td>\n",
       "      <td></td>\n",
       "      <td></td>\n",
       "      <td></td>\n",
       "      <td>2</td>\n",
       "      <td></td>\n",
       "      <td>False</td>\n",
       "      <td>True</td>\n",
       "    </tr>\n",
       "    <tr>\n",
       "      <th>2</th>\n",
       "      <td>Åland Islands</td>\n",
       "      <td>284</td>\n",
       "      <td></td>\n",
       "      <td></td>\n",
       "      <td>ALA</td>\n",
       "      <td>248</td>\n",
       "      <td></td>\n",
       "      <td>True</td>\n",
       "      <td>False</td>\n",
       "    </tr>\n",
       "    <tr>\n",
       "      <th>3</th>\n",
       "      <td>Albania</td>\n",
       "      <td>3</td>\n",
       "      <td></td>\n",
       "      <td>AL</td>\n",
       "      <td>ALB</td>\n",
       "      <td>8</td>\n",
       "      <td></td>\n",
       "      <td>True</td>\n",
       "      <td>False</td>\n",
       "    </tr>\n",
       "    <tr>\n",
       "      <th>4</th>\n",
       "      <td>Algeria</td>\n",
       "      <td>4</td>\n",
       "      <td></td>\n",
       "      <td>DZ</td>\n",
       "      <td>DZA</td>\n",
       "      <td>12</td>\n",
       "      <td></td>\n",
       "      <td>True</td>\n",
       "      <td>False</td>\n",
       "    </tr>\n",
       "  </tbody>\n",
       "</table>\n",
       "</div>"
      ],
      "text/plain": [
       "         Country Country Code End Year ISO2 Code ISO3 Code M49 Code  \\\n",
       "0    Afghanistan            2                 AF       AFG        4   \n",
       "1         Africa         5100                                     2   \n",
       "2  Åland Islands          284                          ALA      248   \n",
       "3        Albania            3                 AL       ALB        8   \n",
       "4        Algeria            4                 DZ       DZA       12   \n",
       "\n",
       "  Start Year  is--country  is--country_group  \n",
       "0                    True              False  \n",
       "1                   False               True  \n",
       "2                    True              False  \n",
       "3                    True              False  \n",
       "4                    True              False  "
      ]
     },
     "execution_count": 115,
     "metadata": {},
     "output_type": "execute_result"
    }
   ],
   "source": [
    "areaDf.head()"
   ]
  },
  {
   "cell_type": "code",
   "execution_count": 116,
   "metadata": {},
   "outputs": [],
   "source": [
    "entity_cols = areaDf.columns"
   ]
  },
  {
   "cell_type": "code",
   "execution_count": 117,
   "metadata": {},
   "outputs": [],
   "source": [
    "areaDf.columns = ['name', 'geo', 'end_year', \n",
    "                  'iso2_code', 'iso3_code', 'm49_code', \n",
    "                  'start_year', 'is--country', 'is--country_group']"
   ]
  },
  {
   "cell_type": "code",
   "execution_count": 118,
   "metadata": {},
   "outputs": [],
   "source": [
    "areaDf = areaDf[['geo', 'name', 'start_year', 'end_year', \n",
    "        'iso2_code', 'iso3_code', 'm49_code', \n",
    "        'is--country', 'is--country_group']]"
   ]
  },
  {
   "cell_type": "code",
   "execution_count": 119,
   "metadata": {},
   "outputs": [
    {
     "data": {
      "text/html": [
       "<div>\n",
       "<style scoped>\n",
       "    .dataframe tbody tr th:only-of-type {\n",
       "        vertical-align: middle;\n",
       "    }\n",
       "\n",
       "    .dataframe tbody tr th {\n",
       "        vertical-align: top;\n",
       "    }\n",
       "\n",
       "    .dataframe thead th {\n",
       "        text-align: right;\n",
       "    }\n",
       "</style>\n",
       "<table border=\"1\" class=\"dataframe\">\n",
       "  <thead>\n",
       "    <tr style=\"text-align: right;\">\n",
       "      <th></th>\n",
       "      <th>geo</th>\n",
       "      <th>name</th>\n",
       "      <th>start_year</th>\n",
       "      <th>end_year</th>\n",
       "      <th>iso2_code</th>\n",
       "      <th>iso3_code</th>\n",
       "      <th>m49_code</th>\n",
       "      <th>is--country</th>\n",
       "      <th>is--country_group</th>\n",
       "    </tr>\n",
       "  </thead>\n",
       "  <tbody>\n",
       "    <tr>\n",
       "      <th>0</th>\n",
       "      <td>2</td>\n",
       "      <td>Afghanistan</td>\n",
       "      <td></td>\n",
       "      <td></td>\n",
       "      <td>AF</td>\n",
       "      <td>AFG</td>\n",
       "      <td>4</td>\n",
       "      <td>True</td>\n",
       "      <td>False</td>\n",
       "    </tr>\n",
       "    <tr>\n",
       "      <th>1</th>\n",
       "      <td>5100</td>\n",
       "      <td>Africa</td>\n",
       "      <td></td>\n",
       "      <td></td>\n",
       "      <td></td>\n",
       "      <td></td>\n",
       "      <td>2</td>\n",
       "      <td>False</td>\n",
       "      <td>True</td>\n",
       "    </tr>\n",
       "    <tr>\n",
       "      <th>2</th>\n",
       "      <td>284</td>\n",
       "      <td>Åland Islands</td>\n",
       "      <td></td>\n",
       "      <td></td>\n",
       "      <td></td>\n",
       "      <td>ALA</td>\n",
       "      <td>248</td>\n",
       "      <td>True</td>\n",
       "      <td>False</td>\n",
       "    </tr>\n",
       "    <tr>\n",
       "      <th>3</th>\n",
       "      <td>3</td>\n",
       "      <td>Albania</td>\n",
       "      <td></td>\n",
       "      <td></td>\n",
       "      <td>AL</td>\n",
       "      <td>ALB</td>\n",
       "      <td>8</td>\n",
       "      <td>True</td>\n",
       "      <td>False</td>\n",
       "    </tr>\n",
       "    <tr>\n",
       "      <th>4</th>\n",
       "      <td>4</td>\n",
       "      <td>Algeria</td>\n",
       "      <td></td>\n",
       "      <td></td>\n",
       "      <td>DZ</td>\n",
       "      <td>DZA</td>\n",
       "      <td>12</td>\n",
       "      <td>True</td>\n",
       "      <td>False</td>\n",
       "    </tr>\n",
       "  </tbody>\n",
       "</table>\n",
       "</div>"
      ],
      "text/plain": [
       "    geo           name start_year end_year iso2_code iso3_code m49_code  \\\n",
       "0     2    Afghanistan                            AF       AFG        4   \n",
       "1  5100         Africa                                                2   \n",
       "2   284  Åland Islands                                     ALA      248   \n",
       "3     3        Albania                            AL       ALB        8   \n",
       "4     4        Algeria                            DZ       DZA       12   \n",
       "\n",
       "   is--country  is--country_group  \n",
       "0         True              False  \n",
       "1        False               True  \n",
       "2         True              False  \n",
       "3         True              False  \n",
       "4         True              False  "
      ]
     },
     "execution_count": 119,
     "metadata": {},
     "output_type": "execute_result"
    }
   ],
   "source": [
    "areaDf.head()"
   ]
  },
  {
   "cell_type": "code",
   "execution_count": 120,
   "metadata": {},
   "outputs": [],
   "source": [
    "areaDf = areaDf.set_index('geo')"
   ]
  },
  {
   "cell_type": "code",
   "execution_count": 121,
   "metadata": {},
   "outputs": [],
   "source": [
    "area_to_group = area_to_group.set_index('Country Code')"
   ]
  },
  {
   "cell_type": "code",
   "execution_count": 122,
   "metadata": {},
   "outputs": [],
   "source": [
    "areaDf['country_group'] = area_to_group.reindex(areaDf.index)['Country Group Code']"
   ]
  },
  {
   "cell_type": "code",
   "execution_count": 170,
   "metadata": {
    "scrolled": false
   },
   "outputs": [],
   "source": [
    "areaDf.to_csv('../../ddf--entities--geo.csv')"
   ]
  },
  {
   "cell_type": "code",
   "execution_count": null,
   "metadata": {},
   "outputs": [],
   "source": []
  },
  {
   "cell_type": "code",
   "execution_count": 171,
   "metadata": {
    "scrolled": false
   },
   "outputs": [],
   "source": [
    "cdf = pd.DataFrame.from_records(concs)"
   ]
  },
  {
   "cell_type": "code",
   "execution_count": 172,
   "metadata": {},
   "outputs": [],
   "source": [
    "cdf['concept_type'] = 'measure'"
   ]
  },
  {
   "cell_type": "code",
   "execution_count": 173,
   "metadata": {},
   "outputs": [
    {
     "data": {
      "text/html": [
       "<div>\n",
       "<style scoped>\n",
       "    .dataframe tbody tr th:only-of-type {\n",
       "        vertical-align: middle;\n",
       "    }\n",
       "\n",
       "    .dataframe tbody tr th {\n",
       "        vertical-align: top;\n",
       "    }\n",
       "\n",
       "    .dataframe thead th {\n",
       "        text-align: right;\n",
       "    }\n",
       "</style>\n",
       "<table border=\"1\" class=\"dataframe\">\n",
       "  <thead>\n",
       "    <tr style=\"text-align: right;\">\n",
       "      <th></th>\n",
       "      <th>concept</th>\n",
       "      <th>name</th>\n",
       "      <th>unit</th>\n",
       "      <th>concept_type</th>\n",
       "    </tr>\n",
       "  </thead>\n",
       "  <tbody>\n",
       "    <tr>\n",
       "      <th>854</th>\n",
       "      <td>sugar_raw_equivalent_domestic_supply_quantity_cce</td>\n",
       "      <td>Sugar (Raw Equivalent) - Domestic supply quantity</td>\n",
       "      <td>tonnes</td>\n",
       "      <td>measure</td>\n",
       "    </tr>\n",
       "    <tr>\n",
       "      <th>906</th>\n",
       "      <td>sugar_raw_equivalent_domestic_supply_quantity_cce</td>\n",
       "      <td>Sugar, Raw Equivalent - Domestic supply quantity</td>\n",
       "      <td>tonnes</td>\n",
       "      <td>measure</td>\n",
       "    </tr>\n",
       "    <tr>\n",
       "      <th>855</th>\n",
       "      <td>sugar_raw_equivalent_export_quantity_cce</td>\n",
       "      <td>Sugar (Raw Equivalent) - Export Quantity</td>\n",
       "      <td>tonnes</td>\n",
       "      <td>measure</td>\n",
       "    </tr>\n",
       "    <tr>\n",
       "      <th>907</th>\n",
       "      <td>sugar_raw_equivalent_export_quantity_cce</td>\n",
       "      <td>Sugar, Raw Equivalent - Export Quantity</td>\n",
       "      <td>tonnes</td>\n",
       "      <td>measure</td>\n",
       "    </tr>\n",
       "    <tr>\n",
       "      <th>856</th>\n",
       "      <td>sugar_raw_equivalent_feed_cce</td>\n",
       "      <td>Sugar (Raw Equivalent) - Feed</td>\n",
       "      <td>tonnes</td>\n",
       "      <td>measure</td>\n",
       "    </tr>\n",
       "    <tr>\n",
       "      <th>908</th>\n",
       "      <td>sugar_raw_equivalent_feed_cce</td>\n",
       "      <td>Sugar, Raw Equivalent - Feed</td>\n",
       "      <td>tonnes</td>\n",
       "      <td>measure</td>\n",
       "    </tr>\n",
       "    <tr>\n",
       "      <th>5329</th>\n",
       "      <td>sugar_raw_equivalent_food_supply_kcal_capita_d...</td>\n",
       "      <td>Sugar, Raw Equivalent - Food supply (kcal/capi...</td>\n",
       "      <td>kcal/capita/day</td>\n",
       "      <td>measure</td>\n",
       "    </tr>\n",
       "    <tr>\n",
       "      <th>5300</th>\n",
       "      <td>sugar_raw_equivalent_food_supply_kcal_capita_d...</td>\n",
       "      <td>Sugar (Raw Equivalent) - Food supply (kcal/cap...</td>\n",
       "      <td>kcal/capita/day</td>\n",
       "      <td>measure</td>\n",
       "    </tr>\n",
       "    <tr>\n",
       "      <th>5330</th>\n",
       "      <td>sugar_raw_equivalent_food_supply_quantity_g_ca...</td>\n",
       "      <td>Sugar, Raw Equivalent - Food supply quantity (...</td>\n",
       "      <td>g/capita/day</td>\n",
       "      <td>measure</td>\n",
       "    </tr>\n",
       "    <tr>\n",
       "      <th>5301</th>\n",
       "      <td>sugar_raw_equivalent_food_supply_quantity_g_ca...</td>\n",
       "      <td>Sugar (Raw Equivalent) - Food supply quantity ...</td>\n",
       "      <td>g/capita/day</td>\n",
       "      <td>measure</td>\n",
       "    </tr>\n",
       "    <tr>\n",
       "      <th>5302</th>\n",
       "      <td>sugar_raw_equivalent_food_supply_quantity_kg_c...</td>\n",
       "      <td>Sugar (Raw Equivalent) - Food supply quantity ...</td>\n",
       "      <td>kg</td>\n",
       "      <td>measure</td>\n",
       "    </tr>\n",
       "    <tr>\n",
       "      <th>5331</th>\n",
       "      <td>sugar_raw_equivalent_food_supply_quantity_kg_c...</td>\n",
       "      <td>Sugar, Raw Equivalent - Food supply quantity (...</td>\n",
       "      <td>kg</td>\n",
       "      <td>measure</td>\n",
       "    </tr>\n",
       "    <tr>\n",
       "      <th>909</th>\n",
       "      <td>sugar_raw_equivalent_food_supply_quantity_tonn...</td>\n",
       "      <td>Sugar, Raw Equivalent - Food supply quantity (...</td>\n",
       "      <td>tonnes</td>\n",
       "      <td>measure</td>\n",
       "    </tr>\n",
       "    <tr>\n",
       "      <th>857</th>\n",
       "      <td>sugar_raw_equivalent_food_supply_quantity_tonn...</td>\n",
       "      <td>Sugar (Raw Equivalent) - Food supply quantity ...</td>\n",
       "      <td>tonnes</td>\n",
       "      <td>measure</td>\n",
       "    </tr>\n",
       "    <tr>\n",
       "      <th>5303</th>\n",
       "      <td>sugar_raw_equivalent_food_supply_quantity_tonn...</td>\n",
       "      <td>Sugar (Raw Equivalent) - Food supply quantity ...</td>\n",
       "      <td>tonnes</td>\n",
       "      <td>measure</td>\n",
       "    </tr>\n",
       "    <tr>\n",
       "      <th>5332</th>\n",
       "      <td>sugar_raw_equivalent_food_supply_quantity_tonn...</td>\n",
       "      <td>Sugar, Raw Equivalent - Food supply quantity (...</td>\n",
       "      <td>tonnes</td>\n",
       "      <td>measure</td>\n",
       "    </tr>\n",
       "    <tr>\n",
       "      <th>910</th>\n",
       "      <td>sugar_raw_equivalent_import_quantity_cce</td>\n",
       "      <td>Sugar, Raw Equivalent - Import Quantity</td>\n",
       "      <td>tonnes</td>\n",
       "      <td>measure</td>\n",
       "    </tr>\n",
       "    <tr>\n",
       "      <th>858</th>\n",
       "      <td>sugar_raw_equivalent_import_quantity_cce</td>\n",
       "      <td>Sugar (Raw Equivalent) - Import Quantity</td>\n",
       "      <td>tonnes</td>\n",
       "      <td>measure</td>\n",
       "    </tr>\n",
       "    <tr>\n",
       "      <th>911</th>\n",
       "      <td>sugar_raw_equivalent_losses_cce</td>\n",
       "      <td>Sugar, Raw Equivalent - Losses</td>\n",
       "      <td>tonnes</td>\n",
       "      <td>measure</td>\n",
       "    </tr>\n",
       "    <tr>\n",
       "      <th>859</th>\n",
       "      <td>sugar_raw_equivalent_losses_cce</td>\n",
       "      <td>Sugar (Raw Equivalent) - Losses</td>\n",
       "      <td>tonnes</td>\n",
       "      <td>measure</td>\n",
       "    </tr>\n",
       "    <tr>\n",
       "      <th>912</th>\n",
       "      <td>sugar_raw_equivalent_other_uses_cce</td>\n",
       "      <td>Sugar, Raw Equivalent - Other uses</td>\n",
       "      <td>tonnes</td>\n",
       "      <td>measure</td>\n",
       "    </tr>\n",
       "    <tr>\n",
       "      <th>860</th>\n",
       "      <td>sugar_raw_equivalent_other_uses_cce</td>\n",
       "      <td>Sugar (Raw Equivalent) - Other uses</td>\n",
       "      <td>tonnes</td>\n",
       "      <td>measure</td>\n",
       "    </tr>\n",
       "    <tr>\n",
       "      <th>913</th>\n",
       "      <td>sugar_raw_equivalent_processing_cce</td>\n",
       "      <td>Sugar, Raw Equivalent - Processing</td>\n",
       "      <td>tonnes</td>\n",
       "      <td>measure</td>\n",
       "    </tr>\n",
       "    <tr>\n",
       "      <th>861</th>\n",
       "      <td>sugar_raw_equivalent_processing_cce</td>\n",
       "      <td>Sugar (Raw Equivalent) - Processing</td>\n",
       "      <td>tonnes</td>\n",
       "      <td>measure</td>\n",
       "    </tr>\n",
       "    <tr>\n",
       "      <th>862</th>\n",
       "      <td>sugar_raw_equivalent_production_cce</td>\n",
       "      <td>Sugar (Raw Equivalent) - Production</td>\n",
       "      <td>tonnes</td>\n",
       "      <td>measure</td>\n",
       "    </tr>\n",
       "    <tr>\n",
       "      <th>914</th>\n",
       "      <td>sugar_raw_equivalent_production_cce</td>\n",
       "      <td>Sugar, Raw Equivalent - Production</td>\n",
       "      <td>tonnes</td>\n",
       "      <td>measure</td>\n",
       "    </tr>\n",
       "    <tr>\n",
       "      <th>916</th>\n",
       "      <td>sugar_raw_equivalent_stock_variation_cce</td>\n",
       "      <td>Sugar, Raw Equivalent - Stock Variation</td>\n",
       "      <td>tonnes</td>\n",
       "      <td>measure</td>\n",
       "    </tr>\n",
       "    <tr>\n",
       "      <th>863</th>\n",
       "      <td>sugar_raw_equivalent_stock_variation_cce</td>\n",
       "      <td>Sugar (Raw Equivalent) - Stock Variation</td>\n",
       "      <td>tonnes</td>\n",
       "      <td>measure</td>\n",
       "    </tr>\n",
       "  </tbody>\n",
       "</table>\n",
       "</div>"
      ],
      "text/plain": [
       "                                                concept  \\\n",
       "854   sugar_raw_equivalent_domestic_supply_quantity_cce   \n",
       "906   sugar_raw_equivalent_domestic_supply_quantity_cce   \n",
       "855            sugar_raw_equivalent_export_quantity_cce   \n",
       "907            sugar_raw_equivalent_export_quantity_cce   \n",
       "856                       sugar_raw_equivalent_feed_cce   \n",
       "908                       sugar_raw_equivalent_feed_cce   \n",
       "5329  sugar_raw_equivalent_food_supply_kcal_capita_d...   \n",
       "5300  sugar_raw_equivalent_food_supply_kcal_capita_d...   \n",
       "5330  sugar_raw_equivalent_food_supply_quantity_g_ca...   \n",
       "5301  sugar_raw_equivalent_food_supply_quantity_g_ca...   \n",
       "5302  sugar_raw_equivalent_food_supply_quantity_kg_c...   \n",
       "5331  sugar_raw_equivalent_food_supply_quantity_kg_c...   \n",
       "909   sugar_raw_equivalent_food_supply_quantity_tonn...   \n",
       "857   sugar_raw_equivalent_food_supply_quantity_tonn...   \n",
       "5303  sugar_raw_equivalent_food_supply_quantity_tonn...   \n",
       "5332  sugar_raw_equivalent_food_supply_quantity_tonn...   \n",
       "910            sugar_raw_equivalent_import_quantity_cce   \n",
       "858            sugar_raw_equivalent_import_quantity_cce   \n",
       "911                     sugar_raw_equivalent_losses_cce   \n",
       "859                     sugar_raw_equivalent_losses_cce   \n",
       "912                 sugar_raw_equivalent_other_uses_cce   \n",
       "860                 sugar_raw_equivalent_other_uses_cce   \n",
       "913                 sugar_raw_equivalent_processing_cce   \n",
       "861                 sugar_raw_equivalent_processing_cce   \n",
       "862                 sugar_raw_equivalent_production_cce   \n",
       "914                 sugar_raw_equivalent_production_cce   \n",
       "916            sugar_raw_equivalent_stock_variation_cce   \n",
       "863            sugar_raw_equivalent_stock_variation_cce   \n",
       "\n",
       "                                                   name             unit  \\\n",
       "854   Sugar (Raw Equivalent) - Domestic supply quantity           tonnes   \n",
       "906    Sugar, Raw Equivalent - Domestic supply quantity           tonnes   \n",
       "855            Sugar (Raw Equivalent) - Export Quantity           tonnes   \n",
       "907             Sugar, Raw Equivalent - Export Quantity           tonnes   \n",
       "856                       Sugar (Raw Equivalent) - Feed           tonnes   \n",
       "908                        Sugar, Raw Equivalent - Feed           tonnes   \n",
       "5329  Sugar, Raw Equivalent - Food supply (kcal/capi...  kcal/capita/day   \n",
       "5300  Sugar (Raw Equivalent) - Food supply (kcal/cap...  kcal/capita/day   \n",
       "5330  Sugar, Raw Equivalent - Food supply quantity (...     g/capita/day   \n",
       "5301  Sugar (Raw Equivalent) - Food supply quantity ...     g/capita/day   \n",
       "5302  Sugar (Raw Equivalent) - Food supply quantity ...               kg   \n",
       "5331  Sugar, Raw Equivalent - Food supply quantity (...               kg   \n",
       "909   Sugar, Raw Equivalent - Food supply quantity (...           tonnes   \n",
       "857   Sugar (Raw Equivalent) - Food supply quantity ...           tonnes   \n",
       "5303  Sugar (Raw Equivalent) - Food supply quantity ...           tonnes   \n",
       "5332  Sugar, Raw Equivalent - Food supply quantity (...           tonnes   \n",
       "910             Sugar, Raw Equivalent - Import Quantity           tonnes   \n",
       "858            Sugar (Raw Equivalent) - Import Quantity           tonnes   \n",
       "911                      Sugar, Raw Equivalent - Losses           tonnes   \n",
       "859                     Sugar (Raw Equivalent) - Losses           tonnes   \n",
       "912                  Sugar, Raw Equivalent - Other uses           tonnes   \n",
       "860                 Sugar (Raw Equivalent) - Other uses           tonnes   \n",
       "913                  Sugar, Raw Equivalent - Processing           tonnes   \n",
       "861                 Sugar (Raw Equivalent) - Processing           tonnes   \n",
       "862                 Sugar (Raw Equivalent) - Production           tonnes   \n",
       "914                  Sugar, Raw Equivalent - Production           tonnes   \n",
       "916             Sugar, Raw Equivalent - Stock Variation           tonnes   \n",
       "863            Sugar (Raw Equivalent) - Stock Variation           tonnes   \n",
       "\n",
       "     concept_type  \n",
       "854       measure  \n",
       "906       measure  \n",
       "855       measure  \n",
       "907       measure  \n",
       "856       measure  \n",
       "908       measure  \n",
       "5329      measure  \n",
       "5300      measure  \n",
       "5330      measure  \n",
       "5301      measure  \n",
       "5302      measure  \n",
       "5331      measure  \n",
       "909       measure  \n",
       "857       measure  \n",
       "5303      measure  \n",
       "5332      measure  \n",
       "910       measure  \n",
       "858       measure  \n",
       "911       measure  \n",
       "859       measure  \n",
       "912       measure  \n",
       "860       measure  \n",
       "913       measure  \n",
       "861       measure  \n",
       "862       measure  \n",
       "914       measure  \n",
       "916       measure  \n",
       "863       measure  "
      ]
     },
     "execution_count": 173,
     "metadata": {},
     "output_type": "execute_result"
    }
   ],
   "source": [
    "cdf[cdf.duplicated(subset='concept', keep=False)].sort_values('concept')"
   ]
  },
  {
   "cell_type": "code",
   "execution_count": 174,
   "metadata": {},
   "outputs": [],
   "source": [
    "cdf = cdf.drop_duplicates(subset='concept')"
   ]
  },
  {
   "cell_type": "code",
   "execution_count": null,
   "metadata": {},
   "outputs": [],
   "source": []
  },
  {
   "cell_type": "code",
   "execution_count": 175,
   "metadata": {},
   "outputs": [
    {
     "data": {
      "text/plain": [
       "(11685, 4)"
      ]
     },
     "execution_count": 175,
     "metadata": {},
     "output_type": "execute_result"
    }
   ],
   "source": [
    "cdf.shape"
   ]
  },
  {
   "cell_type": "code",
   "execution_count": 176,
   "metadata": {},
   "outputs": [
    {
     "name": "stdout",
     "output_type": "stream",
     "text": [
      "   11685\r\n"
     ]
    }
   ],
   "source": [
    "!ls ../../ | grep ddf--datapoints-- | wc -l"
   ]
  },
  {
   "cell_type": "code",
   "execution_count": 177,
   "metadata": {},
   "outputs": [],
   "source": [
    "cdf.to_csv('../../ddf--concepts--continuous.csv', index=False)"
   ]
  },
  {
   "cell_type": "code",
   "execution_count": 131,
   "metadata": {},
   "outputs": [
    {
     "data": {
      "text/plain": [
       "Index(['Country', 'Country Code', 'End Year', 'ISO2 Code', 'ISO3 Code',\n",
       "       'M49 Code', 'Start Year', 'is--country', 'is--country_group'],\n",
       "      dtype='object')"
      ]
     },
     "execution_count": 131,
     "metadata": {},
     "output_type": "execute_result"
    }
   ],
   "source": [
    "entity_cols"
   ]
  },
  {
   "cell_type": "code",
   "execution_count": 162,
   "metadata": {},
   "outputs": [],
   "source": [
    "cdf2 = pd.DataFrame([['name', 'string', 'Name', ''],\n",
    "                     ['geo', 'entity_domain', 'Geo domain', ''],\n",
    "                     ['country', 'entity_set', 'Country', 'geo'],\n",
    "                     ['country_group', 'entity_set', 'Country Group', 'geo'],\n",
    "                     ['year', 'time', 'Year', ''],\n",
    "                     ['iso2_code', 'string', 'ISO2 Code', ''],\n",
    "                     ['iso3_code', 'string', 'ISO3 Code', ''],\n",
    "                     ['m49_code', 'string', 'M49 Code', ''],\n",
    "                     ['start_year', 'string', 'Start Year', ''],\n",
    "                     ['end_year', 'string', 'End Year', ''],\n",
    "                     ['domain', 'string', 'Domain', ''],\n",
    "                     ['unit', 'string', 'Unit', '']\n",
    "                    ])"
   ]
  },
  {
   "cell_type": "code",
   "execution_count": 163,
   "metadata": {},
   "outputs": [],
   "source": [
    "cdf2.columns = ['concept', 'concept_type', 'name', 'domain']"
   ]
  },
  {
   "cell_type": "code",
   "execution_count": 164,
   "metadata": {},
   "outputs": [],
   "source": [
    "cdf2.to_csv('../../ddf--concepts--discrete.csv', index=False)"
   ]
  },
  {
   "cell_type": "code",
   "execution_count": null,
   "metadata": {},
   "outputs": [],
   "source": []
  },
  {
   "cell_type": "code",
   "execution_count": null,
   "metadata": {},
   "outputs": [],
   "source": []
  },
  {
   "cell_type": "code",
   "execution_count": 135,
   "metadata": {},
   "outputs": [],
   "source": [
    "# don't include geos not in geo domain\n",
    "\n",
    "geos = pd.read_csv('../../ddf--entities--geo.csv')['geo'].unique()"
   ]
  },
  {
   "cell_type": "code",
   "execution_count": 136,
   "metadata": {},
   "outputs": [],
   "source": [
    "import os"
   ]
  },
  {
   "cell_type": "code",
   "execution_count": 181,
   "metadata": {},
   "outputs": [],
   "source": [
    "pced = []"
   ]
  },
  {
   "cell_type": "code",
   "execution_count": 180,
   "metadata": {
    "scrolled": true
   },
   "outputs": [],
   "source": [
    "# check if all geos from datapoints are in geo domain \n",
    "for f in os.listdir('../../'):\n",
    "    if 'datapoints' in f and f not in pced:\n",
    "        df = pd.read_csv(os.path.join('../../', f))\n",
    "        df_ = df[~df['geo'].isin([57060, 261, 266, 268, 269])]\n",
    "        if df.shape != df_.shape:\n",
    "            #s1 = set(df['geo'].unique())\n",
    "            #s2 = set(geos)\n",
    "            # print(f, s1.difference(s2), 'not in geo entity')\n",
    "            df_.to_csv(os.path.join('../../', f), index=False)\n",
    "        pced.append(f)"
   ]
  },
  {
   "cell_type": "code",
   "execution_count": 182,
   "metadata": {},
   "outputs": [],
   "source": [
    "# remove empty files\n",
    "for f in os.listdir('../../'):\n",
    "    if 'datapoints' in f and f not in pced:\n",
    "        df = pd.read_csv(os.path.join('../../', f))\n",
    "        if df.shape[0] == 0:\n",
    "            os.remove(os.path.join('../../', f))\n",
    "        pced.append(f)"
   ]
  },
  {
   "cell_type": "code",
   "execution_count": 152,
   "metadata": {},
   "outputs": [],
   "source": [
    "fn = 'Trade_Crops_Livestock_E_All_Data_(Normalized).zip'\n",
    "df = pd.read_csv(BytesIO(zf.read(fn)), \n",
    "                 encoding='latin1', \n",
    "                 compression='zip')"
   ]
  },
  {
   "cell_type": "code",
   "execution_count": 157,
   "metadata": {},
   "outputs": [
    {
     "data": {
      "text/plain": [
       "array(['EU(12)ex.int', 'EU(15)ex.int', 'EU(25)ex.int', 'EU(27)ex.int',\n",
       "       'European Union (exc intra-trade)'], dtype=object)"
      ]
     },
     "execution_count": 157,
     "metadata": {},
     "output_type": "execute_result"
    }
   ],
   "source": [
    "df[df['Area Code'].isin([57060, 261, 266, 268, 269])]['Area'].unique()  ## these areas are not in areaDF"
   ]
  },
  {
   "cell_type": "code",
   "execution_count": null,
   "metadata": {},
   "outputs": [],
   "source": []
  }
 ],
 "metadata": {
  "kernelspec": {
   "display_name": "Python 3",
   "language": "python",
   "name": "python3"
  },
  "language_info": {
   "codemirror_mode": {
    "name": "ipython",
    "version": 3
   },
   "file_extension": ".py",
   "mimetype": "text/x-python",
   "name": "python",
   "nbconvert_exporter": "python",
   "pygments_lexer": "ipython3",
   "version": "3.6.5"
  }
 },
 "nbformat": 4,
 "nbformat_minor": 2
}
